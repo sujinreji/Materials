{
 "cells": [
  {
   "cell_type": "code",
   "execution_count": 1,
   "id": "76ddddc2-1067-407f-bb6c-2fcb721770d9",
   "metadata": {},
   "outputs": [
    {
     "name": "stdout",
     "output_type": "stream",
     "text": [
      "(-0.29502920125339044, -1.3450804105925251, 0.9906241283756864, 0.04138936844029189, 1.581139440031918e-05)\n"
     ]
    },
    {
     "ename": "error",
     "evalue": "Not connected to physics server.",
     "output_type": "error",
     "traceback": [
      "\u001b[1;31m---------------------------------------------------------------------------\u001b[0m",
      "\u001b[1;31merror\u001b[0m                                     Traceback (most recent call last)",
      "Cell \u001b[1;32mIn[1], line 75\u001b[0m\n\u001b[0;32m     73\u001b[0m \u001b[38;5;66;03m# Move to a target end-effector position (x, y, z)\u001b[39;00m\n\u001b[0;32m     74\u001b[0m target_end_effector_position \u001b[38;5;241m=\u001b[39m [\u001b[38;5;241m1.4\u001b[39m, \u001b[38;5;241m0.4\u001b[39m, \u001b[38;5;241m0\u001b[39m]\n\u001b[1;32m---> 75\u001b[0m move_to_target(target_end_effector_position)\n\u001b[0;32m     77\u001b[0m time\u001b[38;5;241m.\u001b[39msleep(\u001b[38;5;241m7\u001b[39m)\n\u001b[0;32m     78\u001b[0m p\u001b[38;5;241m.\u001b[39mdisconnect()\n",
      "Cell \u001b[1;32mIn[1], line 56\u001b[0m, in \u001b[0;36mmove_to_target\u001b[1;34m(target_end_effector_position)\u001b[0m\n\u001b[0;32m     54\u001b[0m \u001b[38;5;66;03m# Wait for the arm to reach the target position\u001b[39;00m\n\u001b[0;32m     55\u001b[0m     \u001b[38;5;28;01mwhile\u001b[39;00m \u001b[38;5;28;01mTrue\u001b[39;00m:\n\u001b[1;32m---> 56\u001b[0m         current_joint_positions \u001b[38;5;241m=\u001b[39m [p\u001b[38;5;241m.\u001b[39mgetJointState(robot, i)[\u001b[38;5;241m0\u001b[39m] \u001b[38;5;28;01mfor\u001b[39;00m i \u001b[38;5;129;01min\u001b[39;00m \u001b[38;5;28mrange\u001b[39m(p\u001b[38;5;241m.\u001b[39mgetNumJoints(robot))]\n\u001b[0;32m     57\u001b[0m         \u001b[38;5;28;01mif\u001b[39;00m \u001b[38;5;28mall\u001b[39m(\u001b[38;5;28mabs\u001b[39m(current_joint_positions[i] \u001b[38;5;241m-\u001b[39m joint_positions[i]) \u001b[38;5;241m<\u001b[39m \u001b[38;5;241m0.01\u001b[39m \u001b[38;5;28;01mfor\u001b[39;00m i \u001b[38;5;129;01min\u001b[39;00m \u001b[38;5;28mrange\u001b[39m(p\u001b[38;5;241m.\u001b[39mgetNumJoints(robot))):\n\u001b[0;32m     58\u001b[0m             \u001b[38;5;28;01mbreak\u001b[39;00m\n",
      "\u001b[1;31merror\u001b[0m: Not connected to physics server."
     ]
    }
   ],
   "source": [
    "import pybullet as p\n",
    "import pybullet_data\n",
    "import time\n",
    "import numpy as np\n",
    "\n",
    "# Connect to the physics server\n",
    "p.connect(p.GUI)\n",
    "\n",
    "# Set additional search path for URDF data\n",
    "p.setAdditionalSearchPath(r\"C:\\Users\\Administrator\\arm\\urdf\")\n",
    "\n",
    "# Load the URDF file\n",
    "robot = p.loadURDF(r\"arm.urdf\", useFixedBase=True)\n",
    "\n",
    "initial_base_pose = [0, 0, 0]\n",
    "initial_base_orientation = p.getQuaternionFromEuler([-np.pi/2, 0, -np.pi/2])  # Rotate by 90 degrees around the y-axis\n",
    "# p.resetBasePositionAndOrientation(robot, initial_base_pose, initial_base_orientation)\n",
    "\n",
    "# Set the initial joint positions\n",
    "initial_joint_positions = [0.0, 0.0, 0.0, 0.0, 0.0]  # Adjust based on your robot's initial configuration\n",
    "for i in range(p.getNumJoints(robot)):\n",
    "    p.resetJointState(robot, i, initial_joint_positions[i])\n",
    "\n",
    "# Add a camera to the scene\n",
    "p.addUserDebugText('Camera view of the arm', [0.02, 0, 0.25], textColorRGB=[0,0,0], textSize=1)\n",
    "p.resetDebugVisualizerCamera(cameraDistance=0.5, cameraYaw=45, cameraPitch=-45, cameraTargetPosition=[0, 0, 0])\n",
    "\n",
    "# Simulate the robot\n",
    "p.setGravity(0, 0, -9.81)\n",
    "p.setRealTimeSimulation(1)\n",
    "\n",
    "color2 = [0.851, 0.424, 0.024, 0.961]  # light\n",
    "color1 = [0.161, 0.157, 0.137, 0.998]  # dark\n",
    "current_color = color1\n",
    "\n",
    "# Change colors of alternate joints\n",
    "for i in range(0, p.getNumJoints(robot), 1):\n",
    "    p.changeVisualShape(robot, i, rgbaColor=current_color)\n",
    "    current_color = color2 if current_color == color1 else color1\n",
    "\n",
    "def move_to_target(target_end_effector_position):\n",
    "    # Calculate inverse kinematics to get joint positions\n",
    "    joint_positions = p.calculateInverseKinematics(robot, 4, target_end_effector_position, maxNum)\n",
    "    # Move the arm to the calculated joint positions\n",
    "    print(joint_positions)\n",
    "    for i in range(p.getNumJoints(robot)):\n",
    "        p.setJointMotorControl2(robot,i,p.POSITION_CONTROL,targetPosition=joint_positions[i],maxVelocity=0.7)\n",
    "    # Wait for the arm to reach the target position\n",
    "        while True:\n",
    "            current_joint_positions = [p.getJointState(robot, i)[0] for i in range(p.getNumJoints(robot))]\n",
    "            if all(abs(current_joint_positions[i] - joint_positions[i]) < 0.01 for i in range(p.getNumJoints(robot))):\n",
    "                break\n",
    "            p.stepSimulation()\n",
    "            time.sleep(2)\n",
    "    # while True:\n",
    "    #     for i in range(p.getNumJoints(robot)):\n",
    "    #         current_joint_positions = [p.getJointState(robot, i)[0] ]\n",
    "    #             for i in range(p.getNumJoints(robot)):\n",
    "    #                 if all(abs(current_joint_positions[i] - joint_positions[i]) < 0.01 #for i in range(p.getNumJoints(robot))):\n",
    "    #                 break\n",
    "    #         p.stepSimulation()\n",
    "    #         time.sleep(1. / 240.)\n",
    "\n",
    "    # Print the joint positions after reaching the target\n",
    "    print(\"Joint positions after moving to target:\", current_joint_positions)\n",
    "\n",
    "# Move to a target end-effector position (x, y, z)\n",
    "target_end_effector_position = [1.4, 0.4, 0]\n",
    "move_to_target(target_end_effector_position)\n",
    "\n",
    "time.sleep(7)\n",
    "p.disconnect()  # Close the connection to PyBullet\n"
   ]
  },
  {
   "cell_type": "code",
   "execution_count": null,
   "id": "94dd05de-d393-4a19-b43c-8861812760a8",
   "metadata": {},
   "outputs": [],
   "source": []
  }
 ],
 "metadata": {
  "kernelspec": {
   "display_name": "Python 3 (ipykernel)",
   "language": "python",
   "name": "python3"
  },
  "language_info": {
   "codemirror_mode": {
    "name": "ipython",
    "version": 3
   },
   "file_extension": ".py",
   "mimetype": "text/x-python",
   "name": "python",
   "nbconvert_exporter": "python",
   "pygments_lexer": "ipython3",
   "version": "3.11.7"
  }
 },
 "nbformat": 4,
 "nbformat_minor": 5
}
