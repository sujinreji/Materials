{
 "cells": [
  {
   "cell_type": "code",
   "execution_count": 1,
   "id": "ac0fb482-f280-4faf-a87b-ca80486c6c3e",
   "metadata": {},
   "outputs": [
    {
     "name": "stdout",
     "output_type": "stream",
     "text": [
      "Part: base.stl\n",
      "Volume: 6683.571094999708\n",
      "Dimensions (Length, Width, Height): [50. 40.  4.]\n",
      "\n",
      "Part: elbow_to_wrist.stl\n",
      "Volume: 4472.049689482276\n",
      "Dimensions (Length, Width, Height): [22.       42.       27.999521]\n",
      "\n",
      "Part: elbow_to_wrist_extension.stl\n",
      "Volume: 47834.8472640916\n",
      "Dimensions (Length, Width, Height): [35.      90.10017 23.     ]\n",
      "\n"
     ]
    },
    {
     "name": "stderr",
     "output_type": "stream",
     "text": [
      "Your mesh is not closed, the mass methods will not function\n",
      "        correctly on this mesh.  For more info:\n",
      "        https://github.com/WoLpH/numpy-stl/issues/69\n"
     ]
    },
    {
     "name": "stdout",
     "output_type": "stream",
     "text": [
      "Part: gripper_handle.stl\n",
      "Volume: 21777.42435566822\n",
      "Dimensions (Length, Width, Height): [27.      44.5     75.00147]\n",
      "\n",
      "Part: gripper_trigger.stl\n",
      "Volume: 14053.705370713817\n",
      "Dimensions (Length, Width, Height): [23.      28.      49.99708]\n",
      "\n"
     ]
    },
    {
     "name": "stderr",
     "output_type": "stream",
     "text": [
      "Your mesh is not closed, the mass methods will not function\n",
      "        correctly on this mesh.  For more info:\n",
      "        https://github.com/WoLpH/numpy-stl/issues/69\n"
     ]
    },
    {
     "name": "stdout",
     "output_type": "stream",
     "text": [
      "Part: leader_arm.stl\n",
      "Volume: 146193.15805396097\n",
      "Dimensions (Length, Width, Height): [ 56.121113 168.62112  178.9994  ]\n",
      "\n",
      "Part: shoulder_to_elbow.stl\n",
      "Volume: 17362.481954342653\n",
      "Dimensions (Length, Width, Height): [ 15.598269  35.       120.      ]\n",
      "\n"
     ]
    }
   ],
   "source": [
    "import os\n",
    "from stl import mesh\n",
    "\n",
    "files_dir = \"C:/Users/Administrator/Desktop/low_cost_robot/hardware/leader/stl\"\n",
    "\n",
    "def read_stl_dimension(file_path):\n",
    "    try:\n",
    "        mesh_data = mesh.Mesh.from_file(file_path)\n",
    "        volume, _, _ = mesh_data.get_mass_properties()\n",
    "        min_coords, max_coords = mesh_data.min_, mesh_data.max_\n",
    "        dimensions = max_coords - min_coords\n",
    "        return volume, dimensions\n",
    "    except Exception as e:\n",
    "        print(f\"Error reading file {file_path}: {e}\")\n",
    "        return None, None\n",
    "\n",
    "def display_dimension_info(base, volume, dimensions):\n",
    "    print(f\"Part: {base}\")\n",
    "    print(f\"Volume: {volume}\")\n",
    "    if dimensions is not None:\n",
    "        print(f\"Dimensions (Length, Width, Height): {dimensions}\\n\")\n",
    "    else:\n",
    "        print(\"Dimensions calculation failed.\\n\")\n",
    "\n",
    "for file_name in os.listdir(files_dir):\n",
    "    file_path = os.path.join(files_dir, file_name)\n",
    "    if file_name.endswith('.stl'):\n",
    "        volume, dimensions = read_stl_dimension(file_path)\n",
    "        display_dimension_info(file_name, volume, dimensions)\n",
    "    elif file_name.endswith('.stp'):\n",
    "        pass  # Skip .stp files for now\n"
   ]
  },
  {
   "cell_type": "code",
   "execution_count": null,
   "id": "82c07045-c207-4d1c-aa16-171207bd85ff",
   "metadata": {},
   "outputs": [],
   "source": []
  }
 ],
 "metadata": {
  "kernelspec": {
   "display_name": "Python 3 (ipykernel)",
   "language": "python",
   "name": "python3"
  },
  "language_info": {
   "codemirror_mode": {
    "name": "ipython",
    "version": 3
   },
   "file_extension": ".py",
   "mimetype": "text/x-python",
   "name": "python",
   "nbconvert_exporter": "python",
   "pygments_lexer": "ipython3",
   "version": "3.11.7"
  }
 },
 "nbformat": 4,
 "nbformat_minor": 5
}
