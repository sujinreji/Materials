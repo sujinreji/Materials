{
 "cells": [
  {
   "cell_type": "markdown",
   "id": "43ce6631-3f74-4654-8aa6-29d5c5de55ef",
   "metadata": {},
   "source": [
    "# TASK: Write python program to read the STL files of the various robotic arm parts given in https://github.com/AlexanderKoch-Koch/low_cost_robot/tree/main/hardware/leader and display the dimension information of each part."
   ]
  },
  {
   "cell_type": "code",
   "execution_count": 1,
   "id": "bd08d7b9-4ef0-480e-8b9f-9c09515c9393",
   "metadata": {},
   "outputs": [
    {
     "name": "stdout",
     "output_type": "stream",
     "text": [
      "File: base.stl\n",
      "Dimensions (width x height x depth): 50.00 x 40.00 x 4.00\n",
      "File: elbow_to_wrist.stl\n",
      "Dimensions (width x height x depth): 22.00 x 42.00 x 28.00\n",
      "File: elbow_to_wrist_extension.stl\n",
      "Dimensions (width x height x depth): 35.00 x 90.10 x 23.00\n",
      "File: gripper_handle.stl\n",
      "Dimensions (width x height x depth): 27.00 x 44.50 x 75.00\n",
      "File: gripper_trigger.stl\n",
      "Dimensions (width x height x depth): 23.00 x 28.00 x 50.00\n",
      "File: leader_arm.stl\n",
      "Dimensions (width x height x depth): 56.12 x 168.62 x 179.00\n",
      "File: shoulder_to_elbow.stl\n",
      "Dimensions (width x height x depth): 15.60 x 35.00 x 120.00\n"
     ]
    }
   ],
   "source": [
    "\n",
    "import os\n",
    "import numpy as np\n",
    "from stl import mesh\n",
    "\n",
    "def get_dimension_info(stl_file_path):                                  # Load the STL file\n",
    "    your_mesh = mesh.Mesh.from_file(stl_file_path)                      \n",
    "    min_x_dir, min_y_dir, min_z_dir = np.min(your_mesh.vectors, axis=0) #Get the minimum and maximum coordinates along each axis\n",
    "    max_x_dir, max_y_dir, max_z_dir = np.max(your_mesh.vectors, axis=0)\n",
    "    # print(min_x_dir)\n",
    "   \n",
    "    width = max_x_dir[0] - min_x_dir[0]                                  # Calculate dimensions\n",
    "    height = max_y_dir[1] - min_y_dir[1]\n",
    "    depth = max_z_dir[2] - min_z_dir[2]\n",
    "    return width, height, depth\n",
    "\n",
    "def main(folder_path):                                              \n",
    "    for file_name in os.listdir(folder_path):                           # for taking the files inside the list\n",
    "        if file_name.endswith(\".stl\"):                                  #checks whether the files are in stl format\n",
    "            stl_file_path = os.path.join(folder_path, file_name)        #creates path for the file.\n",
    "            width, height, depth = get_dimension_info(stl_file_path)\n",
    "            print(f\"File: {file_name}\")\n",
    "            print(f\"Dimensions (width x height x depth): {width:.2f} x {height:.2f} x {depth:.2f}\")\n",
    "\n",
    "folder_path = r\"C:\\Users\\Administrator\\Taske6_stl_files\"\n",
    "main(folder_path)\n"
   ]
  },
  {
   "cell_type": "code",
   "execution_count": null,
   "id": "f20542d6-77f8-4d71-a3fd-d31d09985d73",
   "metadata": {},
   "outputs": [],
   "source": []
  }
 ],
 "metadata": {
  "kernelspec": {
   "display_name": "Python 3 (ipykernel)",
   "language": "python",
   "name": "python3"
  },
  "language_info": {
   "codemirror_mode": {
    "name": "ipython",
    "version": 3
   },
   "file_extension": ".py",
   "mimetype": "text/x-python",
   "name": "python",
   "nbconvert_exporter": "python",
   "pygments_lexer": "ipython3",
   "version": "3.11.7"
  }
 },
 "nbformat": 4,
 "nbformat_minor": 5
}
