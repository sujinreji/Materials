{
 "cells": [
  {
   "cell_type": "code",
   "execution_count": 1,
   "id": "49717588-ca45-4e04-8c3d-9bb8802c9099",
   "metadata": {},
   "outputs": [],
   "source": [
    "import pybullet as p\n",
    "import pybullet_data\n",
    "import time\n",
    "import numpy as np\n",
    "\n",
    "p.connect(p.GUI)                                                 # Connect to the physics server\n",
    "p.setAdditionalSearchPath(r\"C:\\Users\\Administrator\\arm\\urdf\")    # Set additional search path for URDF data\n",
    "robot = p.loadURDF(r\"arm.urdf\", useFixedBase=True)  # Load the URDF file\n",
    "p.setRealTimeSimulation(1)\n",
    "initial_base_pose = [0, 0, 0]\n",
    "initial_base_orientation = p.getQuaternionFromEuler([-np.pi/2,0, -np.pi/2])                            # Set the position and orientation of the base\n",
    "p.resetBasePositionAndOrientation(robot, initial_base_pose, initial_base_orientation)\n",
    "\n",
    "p.addUserDebugText('Camera view of the arm simulation', [0.01, 0, 0.25], textColorRGB=[0.161, 0.314, 0.831], textSize=1)          \n",
    "p.resetDebugVisualizerCamera(cameraDistance=0.4, cameraYaw=45, cameraPitch=-45, cameraTargetPosition=[0, 0, 0])    # Add a camera to the scene\n",
    "time.sleep(2)\n",
    "initial_joint_positions = [0.0, 0.0, 0.0, 0.0, 0.0]                                                   # Set the initial joint positions \n",
    "for i in range(p.getNumJoints(robot)):\n",
    "    p.resetJointState(robot, i, initial_joint_positions[i])\n",
    "\n",
    "dt = 1                                                              # Simulate the robot, Simulation time step \n",
    "p.setGravity(0, 0, -9.81)\n",
    "#p.setTimeStep(dt)\n",
    "\n",
    "\n",
    "def motor_control(position):\n",
    "    global robot                                                      # Access the global 'robot' variable\n",
    "    if not p.isConnected():\n",
    "        p.connect(p.GUI)\n",
    "        p.setAdditionalSearchPath(pybullet_data.getDataPath())\n",
    "        robot = p.loadURDF(r\"C:\\Users\\Administrator\\arm\\urdf\\arm.urdf\", useFixedBase=True)   \n",
    "    for i in range(p.getNumJoints(robot)):\n",
    "        p.setJointMotorControl2(robot, i, p.POSITION_CONTROL, targetPosition=position[i], maxVelocity=0.2)\n",
    "\n",
    "                                               # Simulate and control the robot\n",
    "target_joint_positions = [3.157,-0.785,-0.251,1.07, -1.539]\n",
    "motor_control(target_joint_positions)\n",
    "\n",
    "time.sleep(20)\n",
    "p.disconnect()                                                      # Close the connection to PyBullet\n"
   ]
  },
  {
   "cell_type": "code",
   "execution_count": null,
   "id": "a537fff9-14bf-4f14-a70a-60e746a319d3",
   "metadata": {},
   "outputs": [],
   "source": []
  },
  {
   "cell_type": "code",
   "execution_count": null,
   "id": "8d4bc5e9-04c6-45bb-881f-bbe81bb40a26",
   "metadata": {},
   "outputs": [],
   "source": []
  }
 ],
 "metadata": {
  "kernelspec": {
   "display_name": "Python 3 (ipykernel)",
   "language": "python",
   "name": "python3"
  },
  "language_info": {
   "codemirror_mode": {
    "name": "ipython",
    "version": 3
   },
   "file_extension": ".py",
   "mimetype": "text/x-python",
   "name": "python",
   "nbconvert_exporter": "python",
   "pygments_lexer": "ipython3",
   "version": "3.11.7"
  }
 },
 "nbformat": 4,
 "nbformat_minor": 5
}
