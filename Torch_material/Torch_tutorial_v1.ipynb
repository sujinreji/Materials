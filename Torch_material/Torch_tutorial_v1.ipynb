{
 "cells": [
  {
   "cell_type": "code",
   "execution_count": 1,
   "id": "ddad2e28-ea81-42e3-b7e7-f8c31c476df5",
   "metadata": {},
   "outputs": [],
   "source": [
    "import torch\n",
    "import pandas as pd\n",
    "import numpy as np\n",
    "import matplotlib.pyplot as plt"
   ]
  },
  {
   "cell_type": "code",
   "execution_count": 2,
   "id": "ec1a2f9c-f0da-45db-b386-37b3bb857c40",
   "metadata": {},
   "outputs": [
    {
     "name": "stdout",
     "output_type": "stream",
     "text": [
      "2.3.0\n"
     ]
    }
   ],
   "source": [
    "print(torch.__version__)"
   ]
  },
  {
   "cell_type": "markdown",
   "id": "719b4a4f-9aba-4570-bdff-4be274846591",
   "metadata": {},
   "source": [
    " #introduction to tensors"
   ]
  },
  {
   "cell_type": "code",
   "execution_count": 3,
   "id": "954392d4-4b76-4879-a048-67f1995347da",
   "metadata": {},
   "outputs": [
    {
     "data": {
      "text/plain": [
       "tensor(7)"
      ]
     },
     "execution_count": 3,
     "metadata": {},
     "output_type": "execute_result"
    }
   ],
   "source": [
    "# SCALAR \n",
    "scalar = torch.tensor(7)\n",
    "scalar"
   ]
  },
  {
   "cell_type": "code",
   "execution_count": 4,
   "id": "63c500b1-5453-4096-9033-de38d0a4845f",
   "metadata": {},
   "outputs": [
    {
     "data": {
      "text/plain": [
       "0"
      ]
     },
     "execution_count": 4,
     "metadata": {},
     "output_type": "execute_result"
    }
   ],
   "source": [
    "scalar.ndim"
   ]
  },
  {
   "cell_type": "code",
   "execution_count": 5,
   "id": "6ca54222-c26d-4094-9db0-822f581fc57d",
   "metadata": {},
   "outputs": [
    {
     "data": {
      "text/plain": [
       "7"
      ]
     },
     "execution_count": 5,
     "metadata": {},
     "output_type": "execute_result"
    }
   ],
   "source": [
    " scalar.item()   #get tensor back as python int"
   ]
  },
  {
   "cell_type": "code",
   "execution_count": 6,
   "id": "48a98f35-7b58-44dd-9c85-495943d9bca5",
   "metadata": {},
   "outputs": [
    {
     "data": {
      "text/plain": [
       "tensor([7, 8])"
      ]
     },
     "execution_count": 6,
     "metadata": {},
     "output_type": "execute_result"
    }
   ],
   "source": [
    "# vector\n",
    "vector = torch.tensor([7,8])\n",
    "vector"
   ]
  },
  {
   "cell_type": "code",
   "execution_count": 7,
   "id": "ecfd9798-d068-4da2-a342-f3ed8c8fe43e",
   "metadata": {},
   "outputs": [
    {
     "data": {
      "text/plain": [
       "torch.Size([2])"
      ]
     },
     "execution_count": 7,
     "metadata": {},
     "output_type": "execute_result"
    }
   ],
   "source": [
    "vector.shape"
   ]
  },
  {
   "cell_type": "markdown",
   "id": "ec22b50d-e097-4d16-98d3-bd79bfe48c16",
   "metadata": {},
   "source": [
    "### MATRIX\n"
   ]
  },
  {
   "cell_type": "code",
   "execution_count": 8,
   "id": "67340f41-7d8d-4f0b-99aa-6e8e8340c711",
   "metadata": {},
   "outputs": [],
   "source": [
    "\n",
    "MATRIX = torch.tensor([[[7,8],[9,10]],[[2,1],[3,4]]])"
   ]
  },
  {
   "cell_type": "code",
   "execution_count": 9,
   "id": "0f31fb2c-3c79-4d6b-9d1c-af18619e9fa6",
   "metadata": {},
   "outputs": [
    {
     "data": {
      "text/plain": [
       "tensor([[[ 7,  8],\n",
       "         [ 9, 10]],\n",
       "\n",
       "        [[ 2,  1],\n",
       "         [ 3,  4]]])"
      ]
     },
     "execution_count": 9,
     "metadata": {},
     "output_type": "execute_result"
    }
   ],
   "source": [
    "MATRIX"
   ]
  },
  {
   "cell_type": "code",
   "execution_count": 10,
   "id": "252f6147-5d24-4ed2-80e7-deaf362b805f",
   "metadata": {},
   "outputs": [
    {
     "name": "stdout",
     "output_type": "stream",
     "text": [
      "3\n",
      "torch.Size([2, 2, 2])\n",
      "tensor([[ 7,  8],\n",
      "        [ 9, 10]])\n",
      "torch.Size([2, 2, 2])\n"
     ]
    }
   ],
   "source": [
    "print(MATRIX.ndim)\n",
    "print(MATRIX.shape)\n",
    "print(MATRIX[0])\n",
    "print(MATRIX.size())"
   ]
  },
  {
   "cell_type": "code",
   "execution_count": 11,
   "id": "641848e5-f2e8-4ffb-9863-2eb04c6fd45b",
   "metadata": {},
   "outputs": [
    {
     "data": {
      "text/plain": [
       "5"
      ]
     },
     "execution_count": 11,
     "metadata": {},
     "output_type": "execute_result"
    }
   ],
   "source": [
    "# TENSORS\n",
    "TENSOR = torch.tensor([[[[[1,2,3],\n",
    "                        [3,6,9],\n",
    "                        [2,4,5]]]]])\n",
    "TENSOR.shape\n",
    "TENSOR.ndim\n"
   ]
  },
  {
   "cell_type": "code",
   "execution_count": 12,
   "id": "5bf1b35c-41e5-4306-bc2c-59b822928461",
   "metadata": {},
   "outputs": [
    {
     "data": {
      "text/plain": [
       "torch.int64"
      ]
     },
     "execution_count": 12,
     "metadata": {},
     "output_type": "execute_result"
    }
   ],
   "source": [
    "TENSOR.dtype"
   ]
  },
  {
   "cell_type": "code",
   "execution_count": 13,
   "id": "7a3fd258-08d2-488d-86f8-8a6865888b33",
   "metadata": {},
   "outputs": [
    {
     "data": {
      "text/plain": [
       "torch.Size([1, 1, 4, 1])"
      ]
     },
     "execution_count": 13,
     "metadata": {},
     "output_type": "execute_result"
    }
   ],
   "source": [
    " exm = torch.tensor([[[[1],\n",
    "                       [2],\n",
    "                       [3],\n",
    "                       [4]]]])\n",
    "exm.shape"
   ]
  },
  {
   "cell_type": "code",
   "execution_count": 14,
   "id": "1abaac59-a0c6-43fa-93fe-0d70e85930c1",
   "metadata": {},
   "outputs": [],
   "source": [
    "exm2 = torch.tensor([[[[[1,2],\n",
    "                        [2,3],\n",
    "                        [4,5],\n",
    "                        [6,7],\n",
    "                        [8,9]]]]])"
   ]
  },
  {
   "cell_type": "code",
   "execution_count": 15,
   "id": "eb3aacad-0ce1-4071-93b8-435ed6f6e277",
   "metadata": {},
   "outputs": [
    {
     "data": {
      "text/plain": [
       "torch.Size([1, 1, 1, 5, 2])"
      ]
     },
     "execution_count": 15,
     "metadata": {},
     "output_type": "execute_result"
    }
   ],
   "source": [
    "exm2.shape"
   ]
  },
  {
   "cell_type": "markdown",
   "id": "1ae48eb5-7cbf-4b6e-9654-66bb3ab55818",
   "metadata": {},
   "source": [
    "### RANDOM TENDSORS"
   ]
  },
  {
   "cell_type": "code",
   "execution_count": 16,
   "id": "1053da13-9daf-4864-ab2d-e43250738fc2",
   "metadata": {},
   "outputs": [
    {
     "data": {
      "text/plain": [
       "tensor([[3, 2, 4],\n",
       "        [7, 9, 7],\n",
       "        [1, 5, 5]])"
      ]
     },
     "execution_count": 16,
     "metadata": {},
     "output_type": "execute_result"
    }
   ],
   "source": [
    "random_tensor = torch.randint(0,10,(3,3))\n",
    "random_tensor"
   ]
  },
  {
   "cell_type": "code",
   "execution_count": 17,
   "id": "eb28a7bf-90b6-4136-a46b-667d30408f60",
   "metadata": {},
   "outputs": [
    {
     "data": {
      "text/plain": [
       "2"
      ]
     },
     "execution_count": 17,
     "metadata": {},
     "output_type": "execute_result"
    }
   ],
   "source": [
    "random_tensor.ndim"
   ]
  },
  {
   "cell_type": "markdown",
   "id": "f9e4a4ad-0bcf-4d7e-98dd-91ba588a140e",
   "metadata": {},
   "source": [
    "### Create a random tensor with similar shape to an image tensor"
   ]
  },
  {
   "cell_type": "code",
   "execution_count": 18,
   "id": "62718b84-449d-44a4-8233-8e1fbc97f0d6",
   "metadata": {},
   "outputs": [],
   "source": [
    "random_image_size_tensor = torch.rand(size=(224,224,3))"
   ]
  },
  {
   "cell_type": "code",
   "execution_count": 19,
   "id": "bacc1287-08bc-406c-8c2b-594bf67c08f2",
   "metadata": {},
   "outputs": [
    {
     "data": {
      "text/plain": [
       "(torch.Size([224, 224, 3]), 3)"
      ]
     },
     "execution_count": 19,
     "metadata": {},
     "output_type": "execute_result"
    }
   ],
   "source": [
    "random_image_size_tensor.shape , random_image_size_tensor.ndim"
   ]
  },
  {
   "cell_type": "code",
   "execution_count": 20,
   "id": "fc7c708f-d082-4633-b258-9dfdb49b4866",
   "metadata": {},
   "outputs": [
    {
     "data": {
      "text/plain": [
       "torch.int64"
      ]
     },
     "execution_count": 20,
     "metadata": {},
     "output_type": "execute_result"
    }
   ],
   "source": [
    "random_tensor.dtype"
   ]
  },
  {
   "cell_type": "markdown",
   "id": "f9ed996d-3bf7-4996-b2b4-23c71374c818",
   "metadata": {},
   "source": [
    "### create a tensors of all zeros"
   ]
  },
  {
   "cell_type": "code",
   "execution_count": 21,
   "id": "1e19f18b-8818-48f0-8ef8-decc5bd0d8a9",
   "metadata": {},
   "outputs": [
    {
     "data": {
      "text/plain": [
       "tensor([[0., 0., 0.],\n",
       "        [0., 0., 0.],\n",
       "        [0., 0., 0.]])"
      ]
     },
     "execution_count": 21,
     "metadata": {},
     "output_type": "execute_result"
    }
   ],
   "source": [
    "zeros = torch.zeros(3,3)\n",
    "zeros"
   ]
  },
  {
   "cell_type": "code",
   "execution_count": 22,
   "id": "58d91b03-6668-4eaa-88be-80a6a7db69bf",
   "metadata": {},
   "outputs": [
    {
     "data": {
      "text/plain": [
       "tensor([[1., 1., 1.],\n",
       "        [1., 1., 1.],\n",
       "        [1., 1., 1.]])"
      ]
     },
     "execution_count": 22,
     "metadata": {},
     "output_type": "execute_result"
    }
   ],
   "source": [
    "ones = torch.ones(3,3)\n",
    "ones"
   ]
  },
  {
   "cell_type": "code",
   "execution_count": 23,
   "id": "e3809e09-8575-4c1c-9f42-1574ce4fe101",
   "metadata": {},
   "outputs": [
    {
     "data": {
      "text/plain": [
       "tensor([[0., 0., 0.],\n",
       "        [0., 0., 0.],\n",
       "        [0., 0., 0.]])"
      ]
     },
     "execution_count": 23,
     "metadata": {},
     "output_type": "execute_result"
    }
   ],
   "source": [
    "zeros*ones"
   ]
  },
  {
   "cell_type": "markdown",
   "id": "218a300c-6830-40a3-938d-f77e0e1fd0f2",
   "metadata": {},
   "source": [
    "### Creating a range of tensors and tensors-like"
   ]
  },
  {
   "cell_type": "code",
   "execution_count": 24,
   "id": "493852a4-2961-4a16-9820-f69b02f53fad",
   "metadata": {},
   "outputs": [
    {
     "data": {
      "text/plain": [
       "tensor([ 1,  2,  3,  4,  5,  6,  7,  8,  9, 10])"
      ]
     },
     "execution_count": 24,
     "metadata": {},
     "output_type": "execute_result"
    }
   ],
   "source": [
    "#Create a range fo values in tensors\n",
    "a=torch.arange(1,11) \n",
    "a"
   ]
  },
  {
   "cell_type": "code",
   "execution_count": 25,
   "id": "2893a152-1ce7-4d82-a56b-33f6e5415177",
   "metadata": {},
   "outputs": [
    {
     "data": {
      "text/plain": [
       "tensor([1, 1, 1, 1, 1, 1, 1, 1, 1, 1])"
      ]
     },
     "execution_count": 25,
     "metadata": {},
     "output_type": "execute_result"
    }
   ],
   "source": [
    "#creating tensors like\n",
    "ten_zeros = torch.ones_like(a)\n",
    "ten_zeros"
   ]
  },
  {
   "cell_type": "markdown",
   "id": "0b2f9acb-2e52-4e44-98b8-87365fb2cc60",
   "metadata": {},
   "source": [
    "### Tensor datatypes\n",
    "***NOTE*** : *3 major errors that mat occur,*\n",
    "1. Tensors not in right datatype\n",
    "2. Tensors not in right shape\n",
    "3. Tensors not on the right device"
   ]
  },
  {
   "cell_type": "code",
   "execution_count": 26,
   "id": "54a03751-b8a6-4981-bf24-8b65808ad79c",
   "metadata": {},
   "outputs": [
    {
     "data": {
      "text/plain": [
       "tensor([5.0898, 6.0000, 7.0000], dtype=torch.float16)"
      ]
     },
     "execution_count": 26,
     "metadata": {},
     "output_type": "execute_result"
    }
   ],
   "source": [
    "float_32_tensor = torch.tensor([5.09,6.0,7.0],\n",
    "                               dtype=torch.float16,\n",
    "                                device=None,\n",
    "                               requires_grad=False)\n",
    "float_32_tensor"
   ]
  },
  {
   "cell_type": "code",
   "execution_count": 27,
   "id": "df2f5c22-83d2-4dba-a633-d8c9bf8ef7b0",
   "metadata": {},
   "outputs": [
    {
     "data": {
      "text/plain": [
       "tensor([5.0898, 6.0000, 7.0000], dtype=torch.float16)"
      ]
     },
     "execution_count": 27,
     "metadata": {},
     "output_type": "execute_result"
    }
   ],
   "source": [
    "float_16_tensor = float_32_tensor.type(torch.float16)\n",
    "float_16_tensor"
   ]
  },
  {
   "cell_type": "code",
   "execution_count": 28,
   "id": "ae7a84cd-2fa3-43df-b4a3-476959845a12",
   "metadata": {},
   "outputs": [
    {
     "data": {
      "text/plain": [
       "tensor([25.9062, 36.0000, 49.0000], dtype=torch.float16)"
      ]
     },
     "execution_count": 28,
     "metadata": {},
     "output_type": "execute_result"
    }
   ],
   "source": [
    "float_32_tensor*float_16_tensor"
   ]
  },
  {
   "cell_type": "code",
   "execution_count": 29,
   "id": "e7750a99-c01c-4936-abcf-3719d76168ea",
   "metadata": {},
   "outputs": [
    {
     "data": {
      "text/plain": [
       "tensor([3, 6, 9])"
      ]
     },
     "execution_count": 29,
     "metadata": {},
     "output_type": "execute_result"
    }
   ],
   "source": [
    "int_32_tensor = torch.tensor([3,6,9], dtype= torch.int64)\n",
    "int_32_tensor"
   ]
  },
  {
   "cell_type": "code",
   "execution_count": 30,
   "id": "e1c9cc24-3218-41b8-9716-adddbbc432cd",
   "metadata": {},
   "outputs": [
    {
     "data": {
      "text/plain": [
       "tensor([15.2656, 36.0000, 63.0000], dtype=torch.float16)"
      ]
     },
     "execution_count": 30,
     "metadata": {},
     "output_type": "execute_result"
    }
   ],
   "source": [
    "float_16_tensor*int_32_tensor"
   ]
  },
  {
   "cell_type": "markdown",
   "id": "cca4adf5-9394-4e2f-8793-dafc2af95250",
   "metadata": {},
   "source": [
    "### Getting info from tensor"
   ]
  },
  {
   "cell_type": "code",
   "execution_count": 31,
   "id": "a81de332-54e3-4b26-8cd5-fb7f1a66a50f",
   "metadata": {},
   "outputs": [
    {
     "data": {
      "text/plain": [
       "tensor([[0.3273, 0.6859, 0.1979, 0.9810],\n",
       "        [0.0326, 0.4845, 0.8431, 0.0218],\n",
       "        [0.6580, 0.6888, 0.8026, 0.6232]])"
      ]
     },
     "execution_count": 31,
     "metadata": {},
     "output_type": "execute_result"
    }
   ],
   "source": [
    "some_tensor= torch.rand(3,4)\n",
    "some_tensor"
   ]
  },
  {
   "cell_type": "code",
   "execution_count": 32,
   "id": "b2da97ae-09da-4251-81e0-97f7d691bfb7",
   "metadata": {},
   "outputs": [
    {
     "name": "stdout",
     "output_type": "stream",
     "text": [
      "tensor([[0.3273, 0.6859, 0.1979, 0.9810],\n",
      "        [0.0326, 0.4845, 0.8431, 0.0218],\n",
      "        [0.6580, 0.6888, 0.8026, 0.6232]])\n",
      "Datatype of the tensor : torch.float32\n",
      "Shape of tensor: torch.Size([3, 4])\n",
      "Device tenspr is on: cpu\n"
     ]
    }
   ],
   "source": [
    "print(some_tensor)\n",
    "print(f\"Datatype of the tensor : {some_tensor.dtype}\")\n",
    "print(f\"Shape of tensor: {some_tensor.shape}\")\n",
    "print(f\"Device tenspr is on: {some_tensor.device}\")"
   ]
  },
  {
   "cell_type": "markdown",
   "id": "7e05a6b5-43e5-46c8-ab45-336f080bba28",
   "metadata": {},
   "source": [
    "### Manupulating tensors\n",
    "*Tensors operation:*\n",
    "1. Addition\n",
    "2. Sub\n",
    "3. Multiplication ( Element wise)\n",
    "4. Division\n",
    "5. Matrix Multiplication"
   ]
  },
  {
   "cell_type": "code",
   "execution_count": 33,
   "id": "cbbd162f-e59d-4b12-880b-b559dde89f75",
   "metadata": {},
   "outputs": [
    {
     "name": "stdout",
     "output_type": "stream",
     "text": [
      "tensor([11, 12, 13])\n"
     ]
    }
   ],
   "source": [
    "#ADDITION\n",
    "tensor = torch.tensor([1,2,3])\n",
    "print(tensor + 10)"
   ]
  },
  {
   "cell_type": "code",
   "execution_count": 34,
   "id": "844adb54-2214-460b-a630-c8d50874eb9b",
   "metadata": {},
   "outputs": [
    {
     "name": "stdout",
     "output_type": "stream",
     "text": [
      "tensor([10, 20, 30])\n"
     ]
    }
   ],
   "source": [
    "#multiplication\n",
    "print(tensor*10)"
   ]
  },
  {
   "cell_type": "code",
   "execution_count": 35,
   "id": "b54b1c76-7da2-4c9d-9677-48e723c9e394",
   "metadata": {},
   "outputs": [
    {
     "name": "stdout",
     "output_type": "stream",
     "text": [
      "tensor([10, 20, 30])\n",
      "tensor([0.5000, 1.0000, 1.5000])\n",
      "tensor([4, 5, 6])\n",
      "tensor([0, 1, 2])\n"
     ]
    }
   ],
   "source": [
    "#PyTorch in-built fn.\n",
    "print(torch.mul(tensor,10))\n",
    "print(torch.div(tensor,2))\n",
    "print(torch.add(tensor,3))\n",
    "print(torch.sub(tensor,1))"
   ]
  },
  {
   "cell_type": "markdown",
   "id": "a93a3116-ad74-4415-9603-d6a1ceb65df8",
   "metadata": {},
   "source": [
    "## Matrix Multiplication\n",
    "##### Multiplication in neural networks and deep learning:\n",
    "1. Element wise multiplication\n",
    "2. Matrix multiplication (dot product)"
   ]
  },
  {
   "cell_type": "markdown",
   "id": "0d3a9ed2-9a18-459a-a1b1-07835546df0b",
   "metadata": {},
   "source": [
    "#### Element wise"
   ]
  },
  {
   "cell_type": "code",
   "execution_count": 36,
   "id": "4e2b343a-d895-432c-a8a3-a73aa5db1999",
   "metadata": {},
   "outputs": [
    {
     "name": "stdout",
     "output_type": "stream",
     "text": [
      "tensor([1, 2, 3]) * tensor([1, 2, 3])\n",
      "Equals: tensor([1, 4, 9])\n"
     ]
    }
   ],
   "source": [
    "print(tensor, \"*\", tensor)\n",
    "print(f\"Equals: {tensor * tensor}\")"
   ]
  },
  {
   "cell_type": "markdown",
   "id": "fdd04fdf-f388-40e8-b193-8f6ff1c26b85",
   "metadata": {},
   "source": [
    "##### Matrix Multiplication"
   ]
  },
  {
   "cell_type": "code",
   "execution_count": 37,
   "id": "4ad4fe5c-f11a-42e6-a98f-13d9205439c1",
   "metadata": {},
   "outputs": [
    {
     "name": "stdout",
     "output_type": "stream",
     "text": [
      "tensor(14)\n",
      "CPU times: total: 0 ns\n",
      "Wall time: 0 ns\n"
     ]
    }
   ],
   "source": [
    "%%time\n",
    "print(torch.matmul(tensor, tensor))\n"
   ]
  },
  {
   "cell_type": "code",
   "execution_count": 38,
   "id": "e4f20205-0f19-491e-a881-d964c221af6e",
   "metadata": {},
   "outputs": [
    {
     "data": {
      "text/plain": [
       "14"
      ]
     },
     "execution_count": 38,
     "metadata": {},
     "output_type": "execute_result"
    }
   ],
   "source": [
    "#matrix multiplication by hands\n",
    "1*1 + 2*2 + 3*3"
   ]
  },
  {
   "cell_type": "code",
   "execution_count": 39,
   "id": "64867b07-2532-4b64-9de8-5bbc15627ad6",
   "metadata": {},
   "outputs": [
    {
     "name": "stdout",
     "output_type": "stream",
     "text": [
      "3\n",
      "tensor(14)\n",
      "CPU times: total: 0 ns\n",
      "Wall time: 1 ms\n"
     ]
    }
   ],
   "source": [
    "%%time\n",
    "value = 0\n",
    "print(len(tensor))\n",
    "for i in range(len(tensor)):\n",
    "    value += tensor[i] * tensor [i]\n",
    "print(value)\n",
    "\n"
   ]
  },
  {
   "cell_type": "markdown",
   "id": "880ce560-f0b8-4632-bb09-63767072c5d6",
   "metadata": {},
   "source": [
    "#### matrix shape errors"
   ]
  },
  {
   "cell_type": "code",
   "execution_count": 40,
   "id": "2070e323-3b10-4d70-94b2-b84df2268437",
   "metadata": {},
   "outputs": [],
   "source": [
    "tensor_1 = torch.tensor([[7,10],\n",
    "                        [8,11],\n",
    "                        [9,12]])\n",
    "tensor_2 = torch.tensor([[1,2],\n",
    "                        [3,4],\n",
    "                        [5,6]])"
   ]
  },
  {
   "cell_type": "code",
   "execution_count": 41,
   "id": "8d7d07d9-60be-4bc6-8ce1-9960b2029045",
   "metadata": {},
   "outputs": [
    {
     "data": {
      "text/plain": [
       "(torch.Size([3, 2]), torch.Size([3, 2]))"
      ]
     },
     "execution_count": 41,
     "metadata": {},
     "output_type": "execute_result"
    }
   ],
   "source": [
    "tensor_1.shape, tensor_2.shape"
   ]
  },
  {
   "cell_type": "markdown",
   "id": "e76e68d3-e8af-48c3-99a1-1164fb8faf8f",
   "metadata": {},
   "source": [
    "##### Cant multiply matrix with different inner dimension\n",
    "#### SO TRANSPOSING "
   ]
  },
  {
   "cell_type": "code",
   "execution_count": 42,
   "id": "5dfc425e-0f2e-4aaa-9d17-840d722642cc",
   "metadata": {},
   "outputs": [
    {
     "data": {
      "text/plain": [
       "(tensor([[1, 3, 5],\n",
       "         [2, 4, 6]]),\n",
       " torch.Size([2, 3]))"
      ]
     },
     "execution_count": 42,
     "metadata": {},
     "output_type": "execute_result"
    }
   ],
   "source": [
    "tensor_2.T, tensor_2.T.shape"
   ]
  },
  {
   "cell_type": "code",
   "execution_count": 43,
   "id": "8042bb13-d407-42bf-a8ca-ca21e2d32143",
   "metadata": {},
   "outputs": [
    {
     "data": {
      "text/plain": [
       "tensor([[ 27,  61,  95],\n",
       "        [ 30,  68, 106],\n",
       "        [ 33,  75, 117]])"
      ]
     },
     "execution_count": 43,
     "metadata": {},
     "output_type": "execute_result"
    }
   ],
   "source": [
    "torch.matmul(tensor_1, tensor_2.T)"
   ]
  },
  {
   "cell_type": "markdown",
   "id": "26238a6a-ca5a-4a57-9d63-97ca9e2c45bd",
   "metadata": {},
   "source": [
    "### Finding the min max, mean, sum, ets, (tensor aggregation)"
   ]
  },
  {
   "cell_type": "code",
   "execution_count": 44,
   "id": "59ef58e5-6638-4f64-872f-6185745127f8",
   "metadata": {},
   "outputs": [
    {
     "data": {
      "text/plain": [
       "tensor([1, 2, 3, 4, 5, 6, 7, 8, 9])"
      ]
     },
     "execution_count": 44,
     "metadata": {},
     "output_type": "execute_result"
    }
   ],
   "source": [
    "#create a tensor\n",
    "x = torch.arange(1,10)\n",
    "x"
   ]
  },
  {
   "cell_type": "code",
   "execution_count": 45,
   "id": "5d840d04-a640-404c-8bec-cdef32ff5c63",
   "metadata": {},
   "outputs": [
    {
     "data": {
      "text/plain": [
       "(tensor(1), tensor(1))"
      ]
     },
     "execution_count": 45,
     "metadata": {},
     "output_type": "execute_result"
    }
   ],
   "source": [
    "#find the min\n",
    "torch.min(x), x.min()"
   ]
  },
  {
   "cell_type": "code",
   "execution_count": 46,
   "id": "245fc951-e3e7-4e55-8327-209956c81457",
   "metadata": {},
   "outputs": [
    {
     "data": {
      "text/plain": [
       "(tensor(9), tensor(9))"
      ]
     },
     "execution_count": 46,
     "metadata": {},
     "output_type": "execute_result"
    }
   ],
   "source": [
    "#find the max\n",
    "torch.max(x), x.max()"
   ]
  },
  {
   "cell_type": "code",
   "execution_count": 47,
   "id": "72cdd146-b36a-4d00-bfd2-a1633f31394d",
   "metadata": {},
   "outputs": [
    {
     "data": {
      "text/plain": [
       "(tensor(5.), tensor(5.))"
      ]
     },
     "execution_count": 47,
     "metadata": {},
     "output_type": "execute_result"
    }
   ],
   "source": [
    "#mean. It requires a float 32.\n",
    "torch.mean(x.type(torch.float32)) , x.type(torch.float32).mean()"
   ]
  },
  {
   "cell_type": "code",
   "execution_count": 48,
   "id": "b4ad5343-8744-4f38-9816-72272c9062e1",
   "metadata": {},
   "outputs": [
    {
     "data": {
      "text/plain": [
       "(tensor(45), tensor(45))"
      ]
     },
     "execution_count": 48,
     "metadata": {},
     "output_type": "execute_result"
    }
   ],
   "source": [
    "#find sum\n",
    "torch.sum(x) , x.sum()"
   ]
  },
  {
   "cell_type": "markdown",
   "id": "eb5f4fbd-4167-4333-9df8-df3363357830",
   "metadata": {},
   "source": [
    "#### To find the position of the min and max value."
   ]
  },
  {
   "cell_type": "code",
   "execution_count": 49,
   "id": "881b0f02-f83c-410e-97a5-a1935d355ff6",
   "metadata": {},
   "outputs": [
    {
     "data": {
      "text/plain": [
       "tensor([1, 2, 3, 4, 5, 6, 7, 8, 9])"
      ]
     },
     "execution_count": 49,
     "metadata": {},
     "output_type": "execute_result"
    }
   ],
   "source": [
    "x"
   ]
  },
  {
   "cell_type": "code",
   "execution_count": 50,
   "id": "4adb320d-d192-4756-89e5-4a38b491732a",
   "metadata": {},
   "outputs": [
    {
     "data": {
      "text/plain": [
       "(tensor(0), tensor(0))"
      ]
     },
     "execution_count": 50,
     "metadata": {},
     "output_type": "execute_result"
    }
   ],
   "source": [
    "# To find the min position \n",
    "x.argmin(), torch.argmin(x)"
   ]
  },
  {
   "cell_type": "code",
   "execution_count": 51,
   "id": "4ec689cd-8022-460b-b593-0483e6c48a9a",
   "metadata": {},
   "outputs": [
    {
     "data": {
      "text/plain": [
       "(tensor(8), tensor(8))"
      ]
     },
     "execution_count": 51,
     "metadata": {},
     "output_type": "execute_result"
    }
   ],
   "source": [
    "# To find the max value position\n",
    "x.argmax() , torch.argmax(x)"
   ]
  },
  {
   "cell_type": "markdown",
   "id": "c14f5c2b-dbe8-4efd-9bd7-7ed59a87474a",
   "metadata": {},
   "source": [
    "#### Reshaping, view, Stacking, Squeeze, Unsqueeze, Permute"
   ]
  },
  {
   "cell_type": "code",
   "execution_count": 52,
   "id": "a845c261-9c96-4b9f-9ea8-c28da7198c3e",
   "metadata": {},
   "outputs": [
    {
     "data": {
      "text/plain": [
       "(tensor([ 1,  2,  3,  4,  5,  6,  7,  8,  9, 10]), torch.Size([10]))"
      ]
     },
     "execution_count": 52,
     "metadata": {},
     "output_type": "execute_result"
    }
   ],
   "source": [
    "#Reshape:\n",
    "a, a.shape"
   ]
  },
  {
   "cell_type": "code",
   "execution_count": 53,
   "id": "d2e7a64c-4d41-4f6d-8274-fd0d20e09f68",
   "metadata": {},
   "outputs": [
    {
     "data": {
      "text/plain": [
       "(tensor([[ 1,  2,  3,  4,  5,  6,  7,  8,  9, 10]]), torch.Size([1, 10]))"
      ]
     },
     "execution_count": 53,
     "metadata": {},
     "output_type": "execute_result"
    }
   ],
   "source": [
    "#add an extra dimension\n",
    "a_reshaped = a.reshape(1,10)\n",
    "a_reshaped, a_reshaped.shape"
   ]
  },
  {
   "cell_type": "code",
   "execution_count": 54,
   "id": "bcffc576-b5ae-4ff2-b8c7-c6a89fae4799",
   "metadata": {},
   "outputs": [
    {
     "data": {
      "text/plain": [
       "(tensor([[ 1,  2,  3,  4,  5],\n",
       "         [ 6,  7,  8,  9, 10]]),\n",
       " torch.Size([2, 5]))"
      ]
     },
     "execution_count": 54,
     "metadata": {},
     "output_type": "execute_result"
    }
   ],
   "source": [
    "# change the view\n",
    "z = a.view(2,5)\n",
    "z, z.shape"
   ]
  },
  {
   "cell_type": "code",
   "execution_count": 55,
   "id": "7667a2c4-c72c-41ae-8e71-3e4d110c398b",
   "metadata": {},
   "outputs": [
    {
     "data": {
      "text/plain": [
       "(tensor([[ 5,  2,  3,  4,  5],\n",
       "         [ 5,  7,  8,  9, 10]]),\n",
       " tensor([ 5,  2,  3,  4,  5,  5,  7,  8,  9, 10]))"
      ]
     },
     "execution_count": 55,
     "metadata": {},
     "output_type": "execute_result"
    }
   ],
   "source": [
    "# z[0]== 2\n",
    "z[:,0]=5\n",
    "z,a"
   ]
  },
  {
   "cell_type": "code",
   "execution_count": 56,
   "id": "f5147ec5-baa3-451c-a8a1-c9fa5c3d91ac",
   "metadata": {},
   "outputs": [
    {
     "data": {
      "text/plain": [
       "tensor([[ 5,  2,  3,  4,  5,  5,  7,  8,  9, 10]])"
      ]
     },
     "execution_count": 56,
     "metadata": {},
     "output_type": "execute_result"
    }
   ],
   "source": [
    "a_reshaped\n"
   ]
  },
  {
   "cell_type": "code",
   "execution_count": 57,
   "id": "8c7575e9-f071-4039-baa0-b591466404a2",
   "metadata": {},
   "outputs": [],
   "source": [
    "#stack tensors on top of each other\n",
    "# a_stacked = torch.stack([a_reshaped,z], dim = 0)\n",
    "# a_stacked"
   ]
  },
  {
   "cell_type": "markdown",
   "id": "838dfcb7-5588-415a-bba9-5a44463ab8a6",
   "metadata": {},
   "source": [
    "##### squeeze and unsqueeze\n"
   ]
  },
  {
   "cell_type": "code",
   "execution_count": 58,
   "id": "363b756f-1948-4f50-99ca-4a3b77e92edc",
   "metadata": {},
   "outputs": [
    {
     "data": {
      "text/plain": [
       "(tensor([[[[[0., 0.]],\n",
       " \n",
       "           [[0., 0.]]]],\n",
       " \n",
       " \n",
       " \n",
       "         [[[[0., 0.]],\n",
       " \n",
       "           [[0., 0.]]]]]),\n",
       " torch.Size([2, 1, 2, 1, 2]))"
      ]
     },
     "execution_count": 58,
     "metadata": {},
     "output_type": "execute_result"
    }
   ],
   "source": [
    "c = torch.zeros(2,1,2,1,2)\n",
    "\n",
    "c, c.size()"
   ]
  },
  {
   "cell_type": "code",
   "execution_count": 59,
   "id": "8425c6fd-3058-494a-b8b4-b917f1866d1a",
   "metadata": {},
   "outputs": [
    {
     "data": {
      "text/plain": [
       "tensor([[[0., 0.],\n",
       "         [0., 0.]],\n",
       "\n",
       "        [[0., 0.],\n",
       "         [0., 0.]]])"
      ]
     },
     "execution_count": 59,
     "metadata": {},
     "output_type": "execute_result"
    }
   ],
   "source": [
    " d = torch.squeeze(c)\n",
    "d"
   ]
  },
  {
   "cell_type": "code",
   "execution_count": 60,
   "id": "a841138e-f75a-4587-b227-38c0a38c37d6",
   "metadata": {},
   "outputs": [
    {
     "data": {
      "text/plain": [
       "torch.Size([2, 2, 2])"
      ]
     },
     "execution_count": 60,
     "metadata": {},
     "output_type": "execute_result"
    }
   ],
   "source": [
    "d.size()"
   ]
  },
  {
   "cell_type": "code",
   "execution_count": 61,
   "id": "cadd57a1-a20f-4c36-a84c-86978fc174fe",
   "metadata": {},
   "outputs": [
    {
     "data": {
      "text/plain": [
       "tensor([[[[0., 0.],\n",
       "          [0., 0.]],\n",
       "\n",
       "         [[0., 0.],\n",
       "          [0., 0.]]]])"
      ]
     },
     "execution_count": 61,
     "metadata": {},
     "output_type": "execute_result"
    }
   ],
   "source": [
    "e=d.unsqueeze(dim=0)\n",
    "e"
   ]
  },
  {
   "cell_type": "code",
   "execution_count": 62,
   "id": "1f1fde34-333f-4077-89ab-e41455b30aea",
   "metadata": {},
   "outputs": [
    {
     "data": {
      "text/plain": [
       "torch.Size([1, 2, 2, 2])"
      ]
     },
     "execution_count": 62,
     "metadata": {},
     "output_type": "execute_result"
    }
   ],
   "source": [
    "e.shape"
   ]
  },
  {
   "cell_type": "code",
   "execution_count": 63,
   "id": "bda6a004-13e9-4721-8b55-6cc2c22cf862",
   "metadata": {},
   "outputs": [
    {
     "name": "stdout",
     "output_type": "stream",
     "text": [
      "Previous tensor: tensor([[ 5,  2,  3,  4,  5,  5,  7,  8,  9, 10]])\n",
      "Previous shape: torch.Size([1, 10])\n",
      "New tensor: tensor([ 5,  2,  3,  4,  5,  5,  7,  8,  9, 10])\n",
      "New tnesor shape: torch.Size([10])\n"
     ]
    }
   ],
   "source": [
    "#squeezed\n",
    "print(f\"Previous tensor: {a_reshaped}\")\n",
    "print(f\"Previous shape: {a_reshaped.shape}\")\n",
    "\n",
    "a_squeezed = a_reshaped.squeeze()\n",
    "print(f\"New tensor: {a_squeezed}\")\n",
    "print(f\"New tnesor shape: {a_squeezed.shape}\")"
   ]
  },
  {
   "cell_type": "code",
   "execution_count": 64,
   "id": "e16560fb-4708-4d4d-ae51-cd7f808838f1",
   "metadata": {},
   "outputs": [
    {
     "name": "stdout",
     "output_type": "stream",
     "text": [
      "Before : tensor([ 5,  2,  3,  4,  5,  5,  7,  8,  9, 10])\n",
      "Shape before unsqueezing:torch.Size([10])\n",
      "After unsqueezing: tensor([[ 5,  2,  3,  4,  5,  5,  7,  8,  9, 10]])\n",
      "Shape after squeezing: torch.Size([1, 10])\n"
     ]
    }
   ],
   "source": [
    "#unsqueezed\n",
    "print(f\"Before : {a_squeezed}\")\n",
    "print(f\"Shape before unsqueezing:{a_squeezed.shape}\")\n",
    "\n",
    "a_unsqueezed = a_squeezed.unsqueeze(dim=0)\n",
    "\n",
    "print(f\"After unsqueezing: {a_unsqueezed}\")\n",
    "print(f\"Shape after squeezing: {a_unsqueezed.shape}\")"
   ]
  },
  {
   "cell_type": "markdown",
   "id": "cbcf6ad4-7f01-405f-b090-8578d9828e76",
   "metadata": {},
   "source": [
    " #### Permute "
   ]
  },
  {
   "cell_type": "code",
   "execution_count": 65,
   "id": "db5d16e8-5074-4b05-8baa-e9470c030b02",
   "metadata": {},
   "outputs": [
    {
     "name": "stdout",
     "output_type": "stream",
     "text": [
      "Before permuting:torch.Size([220, 330, 2])\n",
      "After permuting:torch.Size([2, 220, 330])\n"
     ]
    }
   ],
   "source": [
    "x_orginal = torch.rand(size=(220, 330, 2))\n",
    "x_permuted = x_orginal.permute(2,0,1)\n",
    "print(f\"Before permuting:{x_orginal.shape}\")\n",
    "print(f\"After permuting:{x_permuted.shape}\")"
   ]
  },
  {
   "cell_type": "markdown",
   "id": "f35ad5e9-1169-44d1-ab8a-cb8ee44199d0",
   "metadata": {},
   "source": [
    "## INDEXING (Selecting data form tensors)"
   ]
  },
  {
   "cell_type": "code",
   "execution_count": 66,
   "id": "88027cc2-0028-47b3-a778-940790938273",
   "metadata": {},
   "outputs": [
    {
     "name": "stdout",
     "output_type": "stream",
     "text": [
      "tensor([1, 2, 3, 4, 5, 6, 7, 8, 9])\n",
      "torch.Size([9])\n"
     ]
    }
   ],
   "source": [
    "print(x)\n",
    "print(x.shape)\n",
    "x= x.unsqueeze(dim=0)"
   ]
  },
  {
   "cell_type": "code",
   "execution_count": 67,
   "id": "870d8a16-3472-4ab2-864c-a27ebe4bd5e5",
   "metadata": {},
   "outputs": [
    {
     "data": {
      "text/plain": [
       "(tensor([[1, 2, 3, 4, 5, 6, 7, 8, 9]]), torch.Size([1, 9]))"
      ]
     },
     "execution_count": 67,
     "metadata": {},
     "output_type": "execute_result"
    }
   ],
   "source": [
    "x, x.shape"
   ]
  },
  {
   "cell_type": "code",
   "execution_count": 69,
   "id": "4872751e-101e-4dbe-9635-5e813867e7a7",
   "metadata": {},
   "outputs": [],
   "source": [
    "x= x.reshape(1,3,3)"
   ]
  },
  {
   "cell_type": "code",
   "execution_count": null,
   "id": "53a6c9f1-852f-460f-a750-0ebf55c8c897",
   "metadata": {},
   "outputs": [],
   "source": [
    "x, x.shape"
   ]
  },
  {
   "cell_type": "code",
   "execution_count": 74,
   "id": "0d6fef81-0855-4a7d-9c30-4348aefd8cc1",
   "metadata": {},
   "outputs": [
    {
     "data": {
      "text/plain": [
       "tensor([[1, 2, 3],\n",
       "        [4, 5, 6],\n",
       "        [7, 8, 9]])"
      ]
     },
     "execution_count": 74,
     "metadata": {},
     "output_type": "execute_result"
    }
   ],
   "source": [
    "#index\n",
    "x[0]"
   ]
  },
  {
   "cell_type": "code",
   "execution_count": 78,
   "id": "d8298dba-0525-4b53-983b-005755effda0",
   "metadata": {},
   "outputs": [
    {
     "data": {
      "text/plain": [
       "(tensor(6), tensor(6))"
      ]
     },
     "execution_count": 78,
     "metadata": {},
     "output_type": "execute_result"
    }
   ],
   "source": [
    "x[0,1,2], x[0][1][2]"
   ]
  },
  {
   "cell_type": "code",
   "execution_count": 79,
   "id": "ec1a8f83-f299-496b-84ea-ecc8e8ec3767",
   "metadata": {},
   "outputs": [
    {
     "data": {
      "text/plain": [
       "tensor([1, 2, 3])"
      ]
     },
     "execution_count": 79,
     "metadata": {},
     "output_type": "execute_result"
    }
   ],
   "source": [
    "x[0,0]"
   ]
  },
  {
   "cell_type": "code",
   "execution_count": 88,
   "id": "e959cbf8-7bab-43e7-bd2c-6443eeca28e5",
   "metadata": {},
   "outputs": [
    {
     "data": {
      "text/plain": [
       "(tensor([[2, 5, 8]]),\n",
       " tensor([8]),\n",
       " tensor([], size=(0, 3, 3), dtype=torch.int64))"
      ]
     },
     "execution_count": 88,
     "metadata": {},
     "output_type": "execute_result"
    }
   ],
   "source": [
    "x[:,:,1], x[:,2,1] , x[:0]"
   ]
  },
  {
   "cell_type": "markdown",
   "id": "91c8853c-d383-46fe-b1c4-7c43af8cdc9c",
   "metadata": {},
   "source": [
    "## PyTorch tensors and NUmpy\n"
   ]
  },
  {
   "cell_type": "code",
   "execution_count": 108,
   "id": "860fcffc-47f4-4cb6-9328-c0e01601a9af",
   "metadata": {},
   "outputs": [
    {
     "data": {
      "text/plain": [
       "(array([1., 2., 3., 4., 5., 6., 7., 8., 9.]), dtype('float64'))"
      ]
     },
     "execution_count": 108,
     "metadata": {},
     "output_type": "execute_result"
    }
   ],
   "source": [
    "###numpy to torch###\n",
    "array = np.arange(1.0,10)\n",
    "array, array.dtype\n"
   ]
  },
  {
   "cell_type": "code",
   "execution_count": 106,
   "id": "9fc01635-e0a8-4a4f-952a-0233b4d9d167",
   "metadata": {},
   "outputs": [
    {
     "data": {
      "text/plain": [
       "(tensor([1., 2., 3., 4., 5., 6., 7., 8., 9.]), torch.float32)"
      ]
     },
     "execution_count": 106,
     "metadata": {},
     "output_type": "execute_result"
    }
   ],
   "source": [
    "tensor = torch.from_numpy(array).type(torch.float32)\n",
    "tensor , tensor.dtype"
   ]
  },
  {
   "cell_type": "raw",
   "id": "4812144a-c5b2-4d97-b35e-87be106ff239",
   "metadata": {},
   "source": [
    " Pytotch will give the default data type float64 of the numpy array when converting, unless it is specified in the conversion"
   ]
  },
  {
   "cell_type": "code",
   "execution_count": 116,
   "id": "7a4d6431-167c-4ad0-b6d8-22454b30a904",
   "metadata": {},
   "outputs": [
    {
     "data": {
      "text/plain": [
       "(tensor([1., 1., 1., 1., 1., 1., 1., 1.]),\n",
       " array([1., 1., 1., 1., 1., 1., 1., 1.], dtype=float32))"
      ]
     },
     "execution_count": 116,
     "metadata": {},
     "output_type": "execute_result"
    }
   ],
   "source": [
    "###Tensor to NUmpy\n",
    "tensor = torch.ones(8)\n",
    "numpy_tensor = torch.Tensor.numpy(tensor)\n",
    "tensor, numpy_tensor"
   ]
  },
  {
   "cell_type": "raw",
   "id": "15dc4261-2a28-4ba8-8755-b55c8b5f62ad",
   "metadata": {},
   "source": [
    "Numpy will give the default datatype float32 of the tensor to the array when converted, unless it is mentioned duting conversion"
   ]
  },
  {
   "cell_type": "markdown",
   "id": "5754ba1e-680d-48ad-a782-5d998f1d4653",
   "metadata": {},
   "source": [
    "## Reproducibility (trying to take out random out of random)"
   ]
  },
  {
   "cell_type": "code",
   "execution_count": 117,
   "id": "fb178845-a926-4f14-a25d-062d4a364784",
   "metadata": {},
   "outputs": [
    {
     "name": "stdout",
     "output_type": "stream",
     "text": [
      "tensor([[0.5596, 0.5591, 0.0915, 0.2100],\n",
      "        [0.0072, 0.0390, 0.9929, 0.9131],\n",
      "        [0.6186, 0.9744, 0.3189, 0.2148]])\n",
      "tensor([[0.5596, 0.5591, 0.0915, 0.2100],\n",
      "        [0.0072, 0.0390, 0.9929, 0.9131],\n",
      "        [0.6186, 0.9744, 0.3189, 0.2148]])\n",
      "tensor([[True, True, True, True],\n",
      "        [True, True, True, True],\n",
      "        [True, True, True, True]])\n"
     ]
    }
   ],
   "source": [
    "random_seed = 4\n",
    "torch.manual_seed(random_seed)\n",
    "random_tensor_a = torch.rand(3,4)\n",
    "\n",
    "torch.manual_seed(random_seed)\n",
    "random_tensor_b = torch.rand(3,4)\n",
    "\n",
    "print(random_tensor_a)\n",
    "print(random_tensor_b)\n",
    "print(random_tensor_a==random_tensor_b)\n"
   ]
  },
  {
   "cell_type": "code",
   "execution_count": 118,
   "id": "ffff613d-ed6b-4514-8ac5-d87c09681ef3",
   "metadata": {},
   "outputs": [],
   "source": [
    "## Runing tensors or pytorch on GPU"
   ]
  },
  {
   "cell_type": "code",
   "execution_count": 119,
   "id": "2d2e12d4-fca9-4cee-84ce-5abb84d8d072",
   "metadata": {},
   "outputs": [
    {
     "data": {
      "text/plain": [
       "False"
      ]
     },
     "execution_count": 119,
     "metadata": {},
     "output_type": "execute_result"
    }
   ],
   "source": [
    "torch.cuda.is_available()"
   ]
  },
  {
   "cell_type": "code",
   "execution_count": null,
   "id": "88e51996-e745-4a28-aa4b-5ad3bab7cc84",
   "metadata": {},
   "outputs": [],
   "source": []
  }
 ],
 "metadata": {
  "kernelspec": {
   "display_name": "Python 3 (ipykernel)",
   "language": "python",
   "name": "python3"
  },
  "language_info": {
   "codemirror_mode": {
    "name": "ipython",
    "version": 3
   },
   "file_extension": ".py",
   "mimetype": "text/x-python",
   "name": "python",
   "nbconvert_exporter": "python",
   "pygments_lexer": "ipython3",
   "version": "3.11.7"
  }
 },
 "nbformat": 4,
 "nbformat_minor": 5
}
