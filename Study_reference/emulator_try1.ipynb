{
 "cells": [
  {
   "cell_type": "code",
   "execution_count": 1,
   "id": "7517f13b-c537-4ca8-b895-2aa9c7904754",
   "metadata": {},
   "outputs": [],
   "source": [
    "class XL430W250Emulator:\n",
    "    def __init__(self):\n",
    "        self.position = 0  # Example state variable\n",
    "\n",
    "    def handle_command(self, command):\n",
    "        if command == \"ping\":\n",
    "            return self.ping()\n",
    "        elif command.startswith(\"read\"):\n",
    "            return self.read(command)\n",
    "        elif command.startswith(\"write\"):\n",
    "            return self.write(command)\n",
    "        else:\n",
    "            return \"unknown command\"\n",
    "\n",
    "    def ping(self):\n",
    "        return \"pong\"\n",
    "\n",
    "    def read(self, command):\n",
    "        # Extract what to read (e.g., position)\n",
    "        if \"position\" in command:\n",
    "            return self.position\n",
    "        else:\n",
    "            return \"unknown read command\"\n",
    "\n",
    "    def write(self, command):\n",
    "        # Extract what to write (e.g., position)\n",
    "        if \"position\" in command:\n",
    "            # Parse new position value\n",
    "            new_position = int(command.split()[-1])\n",
    "            self.position = new_position\n",
    "            return \"ok\"\n",
    "        else:\n",
    "            return \"unknown write command\"\n"
   ]
  },
  {
   "cell_type": "code",
   "execution_count": 5,
   "id": "34d9655e-a212-4ab9-92f7-cae1b4d8a311",
   "metadata": {},
   "outputs": [
    {
     "name": "stdout",
     "output_type": "stream",
     "text": [
      "Command: ping, Response: pong\n",
      "Command: read position, Response: 0\n",
      "Command: write position 90, Response: ok\n",
      "Command: read position, Response: 90\n"
     ]
    }
   ],
   "source": [
    "def send_command(emulator, command):\n",
    "    response = emulator.handle_command(command)\n",
    "    print(f\"Command: {command}, Response: {response}\")\n",
    "\n",
    "# Create an instance of the emulator\n",
    "emulator = XL430W250Emulator()\n",
    "\n",
    "# Simulate sending commands\n",
    "send_command(emulator, \"ping\")\n",
    "send_command(emulator, \"read position\")\n",
    "send_command(emulator, \"write position 90\")\n",
    "send_command(emulator, \"read position\")\n"
   ]
  },
  {
   "cell_type": "code",
   "execution_count": null,
   "id": "05d68dc8-4c70-41cf-ba3e-013620c47db6",
   "metadata": {},
   "outputs": [],
   "source": []
  }
 ],
 "metadata": {
  "kernelspec": {
   "display_name": "Python 3 (ipykernel)",
   "language": "python",
   "name": "python3"
  },
  "language_info": {
   "codemirror_mode": {
    "name": "ipython",
    "version": 3
   },
   "file_extension": ".py",
   "mimetype": "text/x-python",
   "name": "python",
   "nbconvert_exporter": "python",
   "pygments_lexer": "ipython3",
   "version": "3.11.7"
  }
 },
 "nbformat": 4,
 "nbformat_minor": 5
}
