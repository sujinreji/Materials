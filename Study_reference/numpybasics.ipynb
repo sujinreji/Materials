{
 "cells": [
  {
   "cell_type": "code",
   "execution_count": 6,
   "id": "b9e774c5-84a0-47e3-98ad-faecd8e4232f",
   "metadata": {},
   "outputs": [],
   "source": [
    "import numpy as np"
   ]
  },
  {
   "cell_type": "code",
   "execution_count": 7,
   "id": "fe11acac-7330-48d0-b666-5d19754d9599",
   "metadata": {},
   "outputs": [],
   "source": [
    "b=np.array([[1,2,3],[4,5,6],[7,8,9]])"
   ]
  },
  {
   "cell_type": "code",
   "execution_count": 8,
   "id": "32f37853-0775-480b-912d-8f4894ebe54c",
   "metadata": {},
   "outputs": [
    {
     "data": {
      "text/plain": [
       "array([[1, 2, 3],\n",
       "       [4, 5, 6],\n",
       "       [7, 8, 9]])"
      ]
     },
     "execution_count": 8,
     "metadata": {},
     "output_type": "execute_result"
    }
   ],
   "source": [
    "b"
   ]
  },
  {
   "cell_type": "code",
   "execution_count": 9,
   "id": "401e6b0f-e148-4314-8deb-2e587a0ec42d",
   "metadata": {},
   "outputs": [
    {
     "data": {
      "text/plain": [
       "(3, 3)"
      ]
     },
     "execution_count": 9,
     "metadata": {},
     "output_type": "execute_result"
    }
   ],
   "source": [
    "b.shape"
   ]
  },
  {
   "cell_type": "code",
   "execution_count": 10,
   "id": "1863b4b8-ba18-46eb-918e-59032b493c1f",
   "metadata": {},
   "outputs": [
    {
     "data": {
      "text/plain": [
       "5"
      ]
     },
     "execution_count": 10,
     "metadata": {},
     "output_type": "execute_result"
    }
   ],
   "source": [
    "b[1,1]"
   ]
  },
  {
   "cell_type": "code",
   "execution_count": 11,
   "id": "2677479a-6ea1-477e-abe3-7bb72157154e",
   "metadata": {},
   "outputs": [
    {
     "data": {
      "text/plain": [
       "array([4])"
      ]
     },
     "execution_count": 11,
     "metadata": {},
     "output_type": "execute_result"
    }
   ],
   "source": [
    "b[1,0:1]"
   ]
  },
  {
   "cell_type": "code",
   "execution_count": 12,
   "id": "6e8b8e65-3473-404e-9989-5629e4e1362c",
   "metadata": {},
   "outputs": [],
   "source": [
    "a = np.array([[1,2,3],[4,5,6]])"
   ]
  },
  {
   "cell_type": "code",
   "execution_count": 13,
   "id": "0ad433b4-189c-4094-a9d7-4b3d575a1c7b",
   "metadata": {},
   "outputs": [
    {
     "data": {
      "text/plain": [
       "array([[1, 2, 3],\n",
       "       [4, 5, 6]])"
      ]
     },
     "execution_count": 13,
     "metadata": {},
     "output_type": "execute_result"
    }
   ],
   "source": [
    "a"
   ]
  },
  {
   "cell_type": "code",
   "execution_count": 14,
   "id": "ddae200f-c1b7-435e-8ea3-8b5a0d291b56",
   "metadata": {},
   "outputs": [
    {
     "data": {
      "text/plain": [
       "array([[1, 4],\n",
       "       [2, 5],\n",
       "       [3, 6]])"
      ]
     },
     "execution_count": 14,
     "metadata": {},
     "output_type": "execute_result"
    }
   ],
   "source": [
    "g=a.transpose()\n",
    "g"
   ]
  },
  {
   "cell_type": "code",
   "execution_count": 15,
   "id": "3772b53f-4fa4-419d-9956-1018a0722d36",
   "metadata": {},
   "outputs": [
    {
     "data": {
      "text/plain": [
       "array([[1, 2],\n",
       "       [3, 4],\n",
       "       [5, 6]])"
      ]
     },
     "execution_count": 15,
     "metadata": {},
     "output_type": "execute_result"
    }
   ],
   "source": [
    "d=a.reshape((3,2))\n",
    "d"
   ]
  },
  {
   "cell_type": "code",
   "execution_count": 16,
   "id": "8addf734-0ed7-427b-b96e-e8ca297fa09b",
   "metadata": {},
   "outputs": [
    {
     "data": {
      "text/plain": [
       "(3, 2)"
      ]
     },
     "execution_count": 16,
     "metadata": {},
     "output_type": "execute_result"
    }
   ],
   "source": [
    "d.shape\n"
   ]
  },
  {
   "cell_type": "code",
   "execution_count": 17,
   "id": "a5067679-3e56-4364-aa80-82302a9dc033",
   "metadata": {},
   "outputs": [
    {
     "data": {
      "text/plain": [
       "array([[1, 2, 3],\n",
       "       [4, 5, 6]])"
      ]
     },
     "execution_count": 17,
     "metadata": {},
     "output_type": "execute_result"
    }
   ],
   "source": [
    "f=d.reshape((2,3))\n",
    "f"
   ]
  },
  {
   "cell_type": "code",
   "execution_count": 18,
   "id": "6d9089b1-aa81-45a5-96cd-70c28454e5f6",
   "metadata": {},
   "outputs": [],
   "source": [
    "c= d.transpose()"
   ]
  },
  {
   "cell_type": "code",
   "execution_count": 19,
   "id": "31a07d4a-542a-481a-8d30-135943eee0e9",
   "metadata": {},
   "outputs": [
    {
     "data": {
      "text/plain": [
       "array([[1, 3, 5],\n",
       "       [2, 4, 6]])"
      ]
     },
     "execution_count": 19,
     "metadata": {},
     "output_type": "execute_result"
    }
   ],
   "source": [
    "c"
   ]
  },
  {
   "cell_type": "code",
   "execution_count": null,
   "id": "94dc4685-aedd-4902-9977-9c53b866e4ea",
   "metadata": {},
   "outputs": [],
   "source": []
  },
  {
   "cell_type": "code",
   "execution_count": 20,
   "id": "5ab12f5f-51a8-499e-a651-6b9ca36e1fd6",
   "metadata": {},
   "outputs": [],
   "source": [
    "import csv"
   ]
  },
  {
   "cell_type": "code",
   "execution_count": 21,
   "id": "732eb5dc-834f-402c-96fd-a04c508483a1",
   "metadata": {},
   "outputs": [
    {
     "name": "stdout",
     "output_type": "stream",
     "text": [
      "['Id', 'SepalLengthCm', 'SepalWidthCm', 'PetalLengthCm', 'PetalWidthCm', 'Species']\n",
      "['1', '5.1', '3.5', '1.4', '0.2', 'Iris-setosa']\n",
      "['2', '4.9', '3.0', '1.4', '0.2', 'Iris-setosa']\n",
      "['3', '4.7', '3.2', '1.3', '0.2', 'Iris-setosa']\n",
      "['4', '4.6', '3.1', '1.5', '0.2', 'Iris-setosa']\n",
      "['5', '5.0', '3.6', '1.4', '0.2', 'Iris-setosa']\n",
      "['6', '5.4', '3.9', '1.7', '0.4', 'Iris-setosa']\n",
      "['7', '4.6', '3.4', '1.4', '0.3', 'Iris-setosa']\n",
      "['8', '5.0', '3.4', '1.5', '0.2', 'Iris-setosa']\n",
      "['9', '4.4', '2.9', '1.4', '0.2', 'Iris-setosa']\n",
      "['10', '4.9', '3.1', '1.5', '0.1', 'Iris-setosa']\n",
      "['11', '5.4', '3.7', '1.5', '0.2', 'Iris-setosa']\n",
      "['12', '4.8', '3.4', '1.6', '0.2', 'Iris-setosa']\n",
      "['13', '4.8', '3.0', '1.4', '0.1', 'Iris-setosa']\n",
      "['14', '4.3', '3.0', '1.1', '0.1', 'Iris-setosa']\n",
      "['15', '5.8', '4.0', '1.2', '0.2', 'Iris-setosa']\n",
      "['16', '5.7', '4.4', '1.5', '0.4', 'Iris-setosa']\n",
      "['17', '5.4', '3.9', '1.3', '0.4', 'Iris-setosa']\n",
      "['18', '5.1', '3.5', '1.4', '0.3', 'Iris-setosa']\n",
      "['19', '5.7', '3.8', '1.7', '0.3', 'Iris-setosa']\n",
      "['20', '5.1', '3.8', '1.5', '0.3', 'Iris-setosa']\n",
      "['21', '5.4', '3.4', '1.7', '0.2', 'Iris-setosa']\n",
      "['22', '5.1', '3.7', '1.5', '0.4', 'Iris-setosa']\n",
      "['23', '4.6', '3.6', '1.0', '0.2', 'Iris-setosa']\n",
      "['24', '5.1', '3.3', '1.7', '0.5', 'Iris-setosa']\n",
      "['25', '4.8', '3.4', '1.9', '0.2', 'Iris-setosa']\n",
      "['26', '5.0', '3.0', '1.6', '0.2', 'Iris-setosa']\n",
      "['27', '5.0', '3.4', '1.6', '0.4', 'Iris-setosa']\n",
      "['28', '5.2', '3.5', '1.5', '0.2', 'Iris-setosa']\n",
      "['29', '5.2', '3.4', '1.4', '0.2', 'Iris-setosa']\n",
      "['30', '4.7', '3.2', '1.6', '0.2', 'Iris-setosa']\n",
      "['31', '4.8', '3.1', '1.6', '0.2', 'Iris-setosa']\n",
      "['32', '5.4', '3.4', '1.5', '0.4', 'Iris-setosa']\n",
      "['33', '5.2', '4.1', '1.5', '0.1', 'Iris-setosa']\n",
      "['34', '5.5', '4.2', '1.4', '0.2', 'Iris-setosa']\n",
      "['35', '4.9', '3.1', '1.5', '0.1', 'Iris-setosa']\n",
      "['36', '5.0', '3.2', '1.2', '0.2', 'Iris-setosa']\n",
      "['37', '5.5', '3.5', '1.3', '0.2', 'Iris-setosa']\n",
      "['38', '4.9', '3.1', '1.5', '0.1', 'Iris-setosa']\n",
      "['39', '4.4', '3.0', '1.3', '0.2', 'Iris-setosa']\n",
      "['40', '5.1', '3.4', '1.5', '0.2', 'Iris-setosa']\n",
      "['41', '5.0', '3.5', '1.3', '0.3', 'Iris-setosa']\n",
      "['42', '4.5', '2.3', '1.3', '0.3', 'Iris-setosa']\n",
      "['43', '4.4', '3.2', '1.3', '0.2', 'Iris-setosa']\n",
      "['44', '5.0', '3.5', '1.6', '0.6', 'Iris-setosa']\n",
      "['45', '5.1', '3.8', '1.9', '0.4', 'Iris-setosa']\n",
      "['46', '4.8', '3.0', '1.4', '0.3', 'Iris-setosa']\n",
      "['47', '5.1', '3.8', '1.6', '0.2', 'Iris-setosa']\n",
      "['48', '4.6', '3.2', '1.4', '0.2', 'Iris-setosa']\n",
      "['49', '5.3', '3.7', '1.5', '0.2', 'Iris-setosa']\n",
      "['50', '5.0', '3.3', '1.4', '0.2', 'Iris-setosa']\n",
      "['51', '7.0', '3.2', '4.7', '1.4', 'Iris-versicolor']\n",
      "['52', '6.4', '3.2', '4.5', '1.5', 'Iris-versicolor']\n",
      "['53', '6.9', '3.1', '4.9', '1.5', 'Iris-versicolor']\n",
      "['54', '5.5', '2.3', '4.0', '1.3', 'Iris-versicolor']\n",
      "['55', '6.5', '2.8', '4.6', '1.5', 'Iris-versicolor']\n",
      "['56', '5.7', '2.8', '4.5', '1.3', 'Iris-versicolor']\n",
      "['57', '6.3', '3.3', '4.7', '1.6', 'Iris-versicolor']\n",
      "['58', '4.9', '2.4', '3.3', '1.0', 'Iris-versicolor']\n",
      "['59', '6.6', '2.9', '4.6', '1.3', 'Iris-versicolor']\n",
      "['60', '5.2', '2.7', '3.9', '1.4', 'Iris-versicolor']\n",
      "['61', '5.0', '2.0', '3.5', '1.0', 'Iris-versicolor']\n",
      "['62', '5.9', '3.0', '4.2', '1.5', 'Iris-versicolor']\n",
      "['63', '6.0', '2.2', '4.0', '1.0', 'Iris-versicolor']\n",
      "['64', '6.1', '2.9', '4.7', '1.4', 'Iris-versicolor']\n",
      "['65', '5.6', '2.9', '3.6', '1.3', 'Iris-versicolor']\n",
      "['66', '6.7', '3.1', '4.4', '1.4', 'Iris-versicolor']\n",
      "['67', '5.6', '3.0', '4.5', '1.5', 'Iris-versicolor']\n",
      "['68', '5.8', '2.7', '4.1', '1.0', 'Iris-versicolor']\n",
      "['69', '6.2', '2.2', '4.5', '1.5', 'Iris-versicolor']\n",
      "['70', '5.6', '2.5', '3.9', '1.1', 'Iris-versicolor']\n",
      "['71', '5.9', '3.2', '4.8', '1.8', 'Iris-versicolor']\n",
      "['72', '6.1', '2.8', '4.0', '1.3', 'Iris-versicolor']\n",
      "['73', '6.3', '2.5', '4.9', '1.5', 'Iris-versicolor']\n",
      "['74', '6.1', '2.8', '4.7', '1.2', 'Iris-versicolor']\n",
      "['75', '6.4', '2.9', '4.3', '1.3', 'Iris-versicolor']\n",
      "['76', '6.6', '3.0', '4.4', '1.4', 'Iris-versicolor']\n",
      "['77', '6.8', '2.8', '4.8', '1.4', 'Iris-versicolor']\n",
      "['78', '6.7', '3.0', '5.0', '1.7', 'Iris-versicolor']\n",
      "['79', '6.0', '2.9', '4.5', '1.5', 'Iris-versicolor']\n",
      "['80', '5.7', '2.6', '3.5', '1.0', 'Iris-versicolor']\n",
      "['81', '5.5', '2.4', '3.8', '1.1', 'Iris-versicolor']\n",
      "['82', '5.5', '2.4', '3.7', '1.0', 'Iris-versicolor']\n",
      "['83', '5.8', '2.7', '3.9', '1.2', 'Iris-versicolor']\n",
      "['84', '6.0', '2.7', '5.1', '1.6', 'Iris-versicolor']\n",
      "['85', '5.4', '3.0', '4.5', '1.5', 'Iris-versicolor']\n",
      "['86', '6.0', '3.4', '4.5', '1.6', 'Iris-versicolor']\n",
      "['87', '6.7', '3.1', '4.7', '1.5', 'Iris-versicolor']\n",
      "['88', '6.3', '2.3', '4.4', '1.3', 'Iris-versicolor']\n",
      "['89', '5.6', '3.0', '4.1', '1.3', 'Iris-versicolor']\n",
      "['90', '5.5', '2.5', '4.0', '1.3', 'Iris-versicolor']\n",
      "['91', '5.5', '2.6', '4.4', '1.2', 'Iris-versicolor']\n",
      "['92', '6.1', '3.0', '4.6', '1.4', 'Iris-versicolor']\n",
      "['93', '5.8', '2.6', '4.0', '1.2', 'Iris-versicolor']\n",
      "['94', '5.0', '2.3', '3.3', '1.0', 'Iris-versicolor']\n",
      "['95', '5.6', '2.7', '4.2', '1.3', 'Iris-versicolor']\n",
      "['96', '5.7', '3.0', '4.2', '1.2', 'Iris-versicolor']\n",
      "['97', '5.7', '2.9', '4.2', '1.3', 'Iris-versicolor']\n",
      "['98', '6.2', '2.9', '4.3', '1.3', 'Iris-versicolor']\n",
      "['99', '5.1', '2.5', '3.0', '1.1', 'Iris-versicolor']\n",
      "['100', '5.7', '2.8', '4.1', '1.3', 'Iris-versicolor']\n",
      "['101', '6.3', '3.3', '6.0', '2.5', 'Iris-virginica']\n",
      "['102', '5.8', '2.7', '5.1', '1.9', 'Iris-virginica']\n",
      "['103', '7.1', '3.0', '5.9', '2.1', 'Iris-virginica']\n",
      "['104', '6.3', '2.9', '5.6', '1.8', 'Iris-virginica']\n",
      "['105', '6.5', '3.0', '5.8', '2.2', 'Iris-virginica']\n",
      "['106', '7.6', '3.0', '6.6', '2.1', 'Iris-virginica']\n",
      "['107', '4.9', '2.5', '4.5', '1.7', 'Iris-virginica']\n",
      "['108', '7.3', '2.9', '6.3', '1.8', 'Iris-virginica']\n",
      "['109', '6.7', '2.5', '5.8', '1.8', 'Iris-virginica']\n",
      "['110', '7.2', '3.6', '6.1', '2.5', 'Iris-virginica']\n",
      "['111', '6.5', '3.2', '5.1', '2.0', 'Iris-virginica']\n",
      "['112', '6.4', '2.7', '5.3', '1.9', 'Iris-virginica']\n",
      "['113', '6.8', '3.0', '5.5', '2.1', 'Iris-virginica']\n",
      "['114', '5.7', '2.5', '5.0', '2.0', 'Iris-virginica']\n",
      "['115', '5.8', '2.8', '5.1', '2.4', 'Iris-virginica']\n",
      "['116', '6.4', '3.2', '5.3', '2.3', 'Iris-virginica']\n",
      "['117', '6.5', '3.0', '5.5', '1.8', 'Iris-virginica']\n",
      "['118', '7.7', '3.8', '6.7', '2.2', 'Iris-virginica']\n",
      "['119', '7.7', '2.6', '6.9', '2.3', 'Iris-virginica']\n",
      "['120', '6.0', '2.2', '5.0', '1.5', 'Iris-virginica']\n",
      "['121', '6.9', '3.2', '5.7', '2.3', 'Iris-virginica']\n",
      "['122', '5.6', '2.8', '4.9', '2.0', 'Iris-virginica']\n",
      "['123', '7.7', '2.8', '6.7', '2.0', 'Iris-virginica']\n",
      "['124', '6.3', '2.7', '4.9', '1.8', 'Iris-virginica']\n",
      "['125', '6.7', '3.3', '5.7', '2.1', 'Iris-virginica']\n",
      "['126', '7.2', '3.2', '6.0', '1.8', 'Iris-virginica']\n",
      "['127', '6.2', '2.8', '4.8', '1.8', 'Iris-virginica']\n",
      "['128', '6.1', '3.0', '4.9', '1.8', 'Iris-virginica']\n",
      "['129', '6.4', '2.8', '5.6', '2.1', 'Iris-virginica']\n",
      "['130', '7.2', '3.0', '5.8', '1.6', 'Iris-virginica']\n",
      "['131', '7.4', '2.8', '6.1', '1.9', 'Iris-virginica']\n",
      "['132', '7.9', '3.8', '6.4', '2.0', 'Iris-virginica']\n",
      "['133', '6.4', '2.8', '5.6', '2.2', 'Iris-virginica']\n",
      "['134', '6.3', '2.8', '5.1', '1.5', 'Iris-virginica']\n",
      "['135', '6.1', '2.6', '5.6', '1.4', 'Iris-virginica']\n",
      "['136', '7.7', '3.0', '6.1', '2.3', 'Iris-virginica']\n",
      "['137', '6.3', '3.4', '5.6', '2.4', 'Iris-virginica']\n",
      "['138', '6.4', '3.1', '5.5', '1.8', 'Iris-virginica']\n",
      "['139', '6.0', '3.0', '4.8', '1.8', 'Iris-virginica']\n",
      "['140', '6.9', '3.1', '5.4', '2.1', 'Iris-virginica']\n",
      "['141', '6.7', '3.1', '5.6', '2.4', 'Iris-virginica']\n",
      "['142', '6.9', '3.1', '5.1', '2.3', 'Iris-virginica']\n",
      "['143', '5.8', '2.7', '5.1', '1.9', 'Iris-virginica']\n",
      "['144', '6.8', '3.2', '5.9', '2.3', 'Iris-virginica']\n",
      "['145', '6.7', '3.3', '5.7', '2.5', 'Iris-virginica']\n",
      "['146', '6.7', '3.0', '5.2', '2.3', 'Iris-virginica']\n",
      "['147', '6.3', '2.5', '5.0', '1.9', 'Iris-virginica']\n",
      "['148', '6.5', '3.0', '5.2', '2.0', 'Iris-virginica']\n",
      "['149', '6.2', '3.4', '5.4', '2.3', 'Iris-virginica']\n",
      "['150', '5.9', '3.0', '5.1', '1.8', 'Iris-virginica']\n"
     ]
    }
   ],
   "source": [
    "with open('E:\\Demo Datasets\\iris_data.csv',mode='r') as file:\n",
    "    csv_reader = csv.reader(file)\n",
    "    for row in csv_reader:\n",
    "        print(row)\n",
    "        "
   ]
  },
  {
   "cell_type": "code",
   "execution_count": 25,
   "id": "140d6c32-4462-4e4d-8830-9e11c58c7db2",
   "metadata": {},
   "outputs": [
    {
     "ename": "TypeError",
     "evalue": "loadtxt() got an unexpected keyword argument 'skip_header'",
     "output_type": "error",
     "traceback": [
      "\u001b[1;31m---------------------------------------------------------------------------\u001b[0m",
      "\u001b[1;31mTypeError\u001b[0m                                 Traceback (most recent call last)",
      "Cell \u001b[1;32mIn[25], line 1\u001b[0m\n\u001b[1;32m----> 1\u001b[0m data \u001b[38;5;241m=\u001b[39m np\u001b[38;5;241m.\u001b[39mloadtxt(\u001b[38;5;124m'\u001b[39m\u001b[38;5;124mE:\u001b[39m\u001b[38;5;124m\\\u001b[39m\u001b[38;5;124mDemo Datasets\u001b[39m\u001b[38;5;124m\\\u001b[39m\u001b[38;5;124miris_data.csv\u001b[39m\u001b[38;5;124m'\u001b[39m, delimiter\u001b[38;5;241m=\u001b[39m\u001b[38;5;124m'\u001b[39m\u001b[38;5;124m,\u001b[39m\u001b[38;5;124m'\u001b[39m,skip_header\u001b[38;5;241m=\u001b[39m\u001b[38;5;241m1\u001b[39m)\n",
      "\u001b[1;31mTypeError\u001b[0m: loadtxt() got an unexpected keyword argument 'skip_header'"
     ]
    }
   ],
   "source": [
    "data = np.loadtxt('E:\\Demo Datasets\\iris_data.csv', delimiter=',',skip_header=1)"
   ]
  },
  {
   "cell_type": "code",
   "execution_count": 29,
   "id": "6b34a683-0f07-4b4e-ac67-74224cf38b53",
   "metadata": {},
   "outputs": [
    {
     "name": "stderr",
     "output_type": "stream",
     "text": [
      "C:\\Users\\Administrator\\AppData\\Local\\Temp\\ipykernel_8808\\2865464082.py:1: VisibleDeprecationWarning: Reading unicode strings without specifying the encoding argument is deprecated. Set the encoding, use None for the system default.\n",
      "  data = np.genfromtxt('E:\\Demo Datasets\\iris_data.csv', delimiter=',',names=True, dtype=None)\n"
     ]
    }
   ],
   "source": [
    "data = np.genfromtxt('E:\\Demo Datasets\\iris_data.csv', delimiter=',',names=True, dtype=None) "
   ]
  },
  {
   "cell_type": "code",
   "execution_count": 30,
   "id": "8b998d72-308f-4c11-a62a-ded98376aa7b",
   "metadata": {},
   "outputs": [
    {
     "data": {
      "text/plain": [
       "array([(  1, 5.1, 3.5, 1.4, 0.2, b'Iris-setosa'),\n",
       "       (  2, 4.9, 3. , 1.4, 0.2, b'Iris-setosa'),\n",
       "       (  3, 4.7, 3.2, 1.3, 0.2, b'Iris-setosa'),\n",
       "       (  4, 4.6, 3.1, 1.5, 0.2, b'Iris-setosa'),\n",
       "       (  5, 5. , 3.6, 1.4, 0.2, b'Iris-setosa'),\n",
       "       (  6, 5.4, 3.9, 1.7, 0.4, b'Iris-setosa'),\n",
       "       (  7, 4.6, 3.4, 1.4, 0.3, b'Iris-setosa'),\n",
       "       (  8, 5. , 3.4, 1.5, 0.2, b'Iris-setosa'),\n",
       "       (  9, 4.4, 2.9, 1.4, 0.2, b'Iris-setosa'),\n",
       "       ( 10, 4.9, 3.1, 1.5, 0.1, b'Iris-setosa'),\n",
       "       ( 11, 5.4, 3.7, 1.5, 0.2, b'Iris-setosa'),\n",
       "       ( 12, 4.8, 3.4, 1.6, 0.2, b'Iris-setosa'),\n",
       "       ( 13, 4.8, 3. , 1.4, 0.1, b'Iris-setosa'),\n",
       "       ( 14, 4.3, 3. , 1.1, 0.1, b'Iris-setosa'),\n",
       "       ( 15, 5.8, 4. , 1.2, 0.2, b'Iris-setosa'),\n",
       "       ( 16, 5.7, 4.4, 1.5, 0.4, b'Iris-setosa'),\n",
       "       ( 17, 5.4, 3.9, 1.3, 0.4, b'Iris-setosa'),\n",
       "       ( 18, 5.1, 3.5, 1.4, 0.3, b'Iris-setosa'),\n",
       "       ( 19, 5.7, 3.8, 1.7, 0.3, b'Iris-setosa'),\n",
       "       ( 20, 5.1, 3.8, 1.5, 0.3, b'Iris-setosa'),\n",
       "       ( 21, 5.4, 3.4, 1.7, 0.2, b'Iris-setosa'),\n",
       "       ( 22, 5.1, 3.7, 1.5, 0.4, b'Iris-setosa'),\n",
       "       ( 23, 4.6, 3.6, 1. , 0.2, b'Iris-setosa'),\n",
       "       ( 24, 5.1, 3.3, 1.7, 0.5, b'Iris-setosa'),\n",
       "       ( 25, 4.8, 3.4, 1.9, 0.2, b'Iris-setosa'),\n",
       "       ( 26, 5. , 3. , 1.6, 0.2, b'Iris-setosa'),\n",
       "       ( 27, 5. , 3.4, 1.6, 0.4, b'Iris-setosa'),\n",
       "       ( 28, 5.2, 3.5, 1.5, 0.2, b'Iris-setosa'),\n",
       "       ( 29, 5.2, 3.4, 1.4, 0.2, b'Iris-setosa'),\n",
       "       ( 30, 4.7, 3.2, 1.6, 0.2, b'Iris-setosa'),\n",
       "       ( 31, 4.8, 3.1, 1.6, 0.2, b'Iris-setosa'),\n",
       "       ( 32, 5.4, 3.4, 1.5, 0.4, b'Iris-setosa'),\n",
       "       ( 33, 5.2, 4.1, 1.5, 0.1, b'Iris-setosa'),\n",
       "       ( 34, 5.5, 4.2, 1.4, 0.2, b'Iris-setosa'),\n",
       "       ( 35, 4.9, 3.1, 1.5, 0.1, b'Iris-setosa'),\n",
       "       ( 36, 5. , 3.2, 1.2, 0.2, b'Iris-setosa'),\n",
       "       ( 37, 5.5, 3.5, 1.3, 0.2, b'Iris-setosa'),\n",
       "       ( 38, 4.9, 3.1, 1.5, 0.1, b'Iris-setosa'),\n",
       "       ( 39, 4.4, 3. , 1.3, 0.2, b'Iris-setosa'),\n",
       "       ( 40, 5.1, 3.4, 1.5, 0.2, b'Iris-setosa'),\n",
       "       ( 41, 5. , 3.5, 1.3, 0.3, b'Iris-setosa'),\n",
       "       ( 42, 4.5, 2.3, 1.3, 0.3, b'Iris-setosa'),\n",
       "       ( 43, 4.4, 3.2, 1.3, 0.2, b'Iris-setosa'),\n",
       "       ( 44, 5. , 3.5, 1.6, 0.6, b'Iris-setosa'),\n",
       "       ( 45, 5.1, 3.8, 1.9, 0.4, b'Iris-setosa'),\n",
       "       ( 46, 4.8, 3. , 1.4, 0.3, b'Iris-setosa'),\n",
       "       ( 47, 5.1, 3.8, 1.6, 0.2, b'Iris-setosa'),\n",
       "       ( 48, 4.6, 3.2, 1.4, 0.2, b'Iris-setosa'),\n",
       "       ( 49, 5.3, 3.7, 1.5, 0.2, b'Iris-setosa'),\n",
       "       ( 50, 5. , 3.3, 1.4, 0.2, b'Iris-setosa'),\n",
       "       ( 51, 7. , 3.2, 4.7, 1.4, b'Iris-versicolor'),\n",
       "       ( 52, 6.4, 3.2, 4.5, 1.5, b'Iris-versicolor'),\n",
       "       ( 53, 6.9, 3.1, 4.9, 1.5, b'Iris-versicolor'),\n",
       "       ( 54, 5.5, 2.3, 4. , 1.3, b'Iris-versicolor'),\n",
       "       ( 55, 6.5, 2.8, 4.6, 1.5, b'Iris-versicolor'),\n",
       "       ( 56, 5.7, 2.8, 4.5, 1.3, b'Iris-versicolor'),\n",
       "       ( 57, 6.3, 3.3, 4.7, 1.6, b'Iris-versicolor'),\n",
       "       ( 58, 4.9, 2.4, 3.3, 1. , b'Iris-versicolor'),\n",
       "       ( 59, 6.6, 2.9, 4.6, 1.3, b'Iris-versicolor'),\n",
       "       ( 60, 5.2, 2.7, 3.9, 1.4, b'Iris-versicolor'),\n",
       "       ( 61, 5. , 2. , 3.5, 1. , b'Iris-versicolor'),\n",
       "       ( 62, 5.9, 3. , 4.2, 1.5, b'Iris-versicolor'),\n",
       "       ( 63, 6. , 2.2, 4. , 1. , b'Iris-versicolor'),\n",
       "       ( 64, 6.1, 2.9, 4.7, 1.4, b'Iris-versicolor'),\n",
       "       ( 65, 5.6, 2.9, 3.6, 1.3, b'Iris-versicolor'),\n",
       "       ( 66, 6.7, 3.1, 4.4, 1.4, b'Iris-versicolor'),\n",
       "       ( 67, 5.6, 3. , 4.5, 1.5, b'Iris-versicolor'),\n",
       "       ( 68, 5.8, 2.7, 4.1, 1. , b'Iris-versicolor'),\n",
       "       ( 69, 6.2, 2.2, 4.5, 1.5, b'Iris-versicolor'),\n",
       "       ( 70, 5.6, 2.5, 3.9, 1.1, b'Iris-versicolor'),\n",
       "       ( 71, 5.9, 3.2, 4.8, 1.8, b'Iris-versicolor'),\n",
       "       ( 72, 6.1, 2.8, 4. , 1.3, b'Iris-versicolor'),\n",
       "       ( 73, 6.3, 2.5, 4.9, 1.5, b'Iris-versicolor'),\n",
       "       ( 74, 6.1, 2.8, 4.7, 1.2, b'Iris-versicolor'),\n",
       "       ( 75, 6.4, 2.9, 4.3, 1.3, b'Iris-versicolor'),\n",
       "       ( 76, 6.6, 3. , 4.4, 1.4, b'Iris-versicolor'),\n",
       "       ( 77, 6.8, 2.8, 4.8, 1.4, b'Iris-versicolor'),\n",
       "       ( 78, 6.7, 3. , 5. , 1.7, b'Iris-versicolor'),\n",
       "       ( 79, 6. , 2.9, 4.5, 1.5, b'Iris-versicolor'),\n",
       "       ( 80, 5.7, 2.6, 3.5, 1. , b'Iris-versicolor'),\n",
       "       ( 81, 5.5, 2.4, 3.8, 1.1, b'Iris-versicolor'),\n",
       "       ( 82, 5.5, 2.4, 3.7, 1. , b'Iris-versicolor'),\n",
       "       ( 83, 5.8, 2.7, 3.9, 1.2, b'Iris-versicolor'),\n",
       "       ( 84, 6. , 2.7, 5.1, 1.6, b'Iris-versicolor'),\n",
       "       ( 85, 5.4, 3. , 4.5, 1.5, b'Iris-versicolor'),\n",
       "       ( 86, 6. , 3.4, 4.5, 1.6, b'Iris-versicolor'),\n",
       "       ( 87, 6.7, 3.1, 4.7, 1.5, b'Iris-versicolor'),\n",
       "       ( 88, 6.3, 2.3, 4.4, 1.3, b'Iris-versicolor'),\n",
       "       ( 89, 5.6, 3. , 4.1, 1.3, b'Iris-versicolor'),\n",
       "       ( 90, 5.5, 2.5, 4. , 1.3, b'Iris-versicolor'),\n",
       "       ( 91, 5.5, 2.6, 4.4, 1.2, b'Iris-versicolor'),\n",
       "       ( 92, 6.1, 3. , 4.6, 1.4, b'Iris-versicolor'),\n",
       "       ( 93, 5.8, 2.6, 4. , 1.2, b'Iris-versicolor'),\n",
       "       ( 94, 5. , 2.3, 3.3, 1. , b'Iris-versicolor'),\n",
       "       ( 95, 5.6, 2.7, 4.2, 1.3, b'Iris-versicolor'),\n",
       "       ( 96, 5.7, 3. , 4.2, 1.2, b'Iris-versicolor'),\n",
       "       ( 97, 5.7, 2.9, 4.2, 1.3, b'Iris-versicolor'),\n",
       "       ( 98, 6.2, 2.9, 4.3, 1.3, b'Iris-versicolor'),\n",
       "       ( 99, 5.1, 2.5, 3. , 1.1, b'Iris-versicolor'),\n",
       "       (100, 5.7, 2.8, 4.1, 1.3, b'Iris-versicolor'),\n",
       "       (101, 6.3, 3.3, 6. , 2.5, b'Iris-virginica'),\n",
       "       (102, 5.8, 2.7, 5.1, 1.9, b'Iris-virginica'),\n",
       "       (103, 7.1, 3. , 5.9, 2.1, b'Iris-virginica'),\n",
       "       (104, 6.3, 2.9, 5.6, 1.8, b'Iris-virginica'),\n",
       "       (105, 6.5, 3. , 5.8, 2.2, b'Iris-virginica'),\n",
       "       (106, 7.6, 3. , 6.6, 2.1, b'Iris-virginica'),\n",
       "       (107, 4.9, 2.5, 4.5, 1.7, b'Iris-virginica'),\n",
       "       (108, 7.3, 2.9, 6.3, 1.8, b'Iris-virginica'),\n",
       "       (109, 6.7, 2.5, 5.8, 1.8, b'Iris-virginica'),\n",
       "       (110, 7.2, 3.6, 6.1, 2.5, b'Iris-virginica'),\n",
       "       (111, 6.5, 3.2, 5.1, 2. , b'Iris-virginica'),\n",
       "       (112, 6.4, 2.7, 5.3, 1.9, b'Iris-virginica'),\n",
       "       (113, 6.8, 3. , 5.5, 2.1, b'Iris-virginica'),\n",
       "       (114, 5.7, 2.5, 5. , 2. , b'Iris-virginica'),\n",
       "       (115, 5.8, 2.8, 5.1, 2.4, b'Iris-virginica'),\n",
       "       (116, 6.4, 3.2, 5.3, 2.3, b'Iris-virginica'),\n",
       "       (117, 6.5, 3. , 5.5, 1.8, b'Iris-virginica'),\n",
       "       (118, 7.7, 3.8, 6.7, 2.2, b'Iris-virginica'),\n",
       "       (119, 7.7, 2.6, 6.9, 2.3, b'Iris-virginica'),\n",
       "       (120, 6. , 2.2, 5. , 1.5, b'Iris-virginica'),\n",
       "       (121, 6.9, 3.2, 5.7, 2.3, b'Iris-virginica'),\n",
       "       (122, 5.6, 2.8, 4.9, 2. , b'Iris-virginica'),\n",
       "       (123, 7.7, 2.8, 6.7, 2. , b'Iris-virginica'),\n",
       "       (124, 6.3, 2.7, 4.9, 1.8, b'Iris-virginica'),\n",
       "       (125, 6.7, 3.3, 5.7, 2.1, b'Iris-virginica'),\n",
       "       (126, 7.2, 3.2, 6. , 1.8, b'Iris-virginica'),\n",
       "       (127, 6.2, 2.8, 4.8, 1.8, b'Iris-virginica'),\n",
       "       (128, 6.1, 3. , 4.9, 1.8, b'Iris-virginica'),\n",
       "       (129, 6.4, 2.8, 5.6, 2.1, b'Iris-virginica'),\n",
       "       (130, 7.2, 3. , 5.8, 1.6, b'Iris-virginica'),\n",
       "       (131, 7.4, 2.8, 6.1, 1.9, b'Iris-virginica'),\n",
       "       (132, 7.9, 3.8, 6.4, 2. , b'Iris-virginica'),\n",
       "       (133, 6.4, 2.8, 5.6, 2.2, b'Iris-virginica'),\n",
       "       (134, 6.3, 2.8, 5.1, 1.5, b'Iris-virginica'),\n",
       "       (135, 6.1, 2.6, 5.6, 1.4, b'Iris-virginica'),\n",
       "       (136, 7.7, 3. , 6.1, 2.3, b'Iris-virginica'),\n",
       "       (137, 6.3, 3.4, 5.6, 2.4, b'Iris-virginica'),\n",
       "       (138, 6.4, 3.1, 5.5, 1.8, b'Iris-virginica'),\n",
       "       (139, 6. , 3. , 4.8, 1.8, b'Iris-virginica'),\n",
       "       (140, 6.9, 3.1, 5.4, 2.1, b'Iris-virginica'),\n",
       "       (141, 6.7, 3.1, 5.6, 2.4, b'Iris-virginica'),\n",
       "       (142, 6.9, 3.1, 5.1, 2.3, b'Iris-virginica'),\n",
       "       (143, 5.8, 2.7, 5.1, 1.9, b'Iris-virginica'),\n",
       "       (144, 6.8, 3.2, 5.9, 2.3, b'Iris-virginica'),\n",
       "       (145, 6.7, 3.3, 5.7, 2.5, b'Iris-virginica'),\n",
       "       (146, 6.7, 3. , 5.2, 2.3, b'Iris-virginica'),\n",
       "       (147, 6.3, 2.5, 5. , 1.9, b'Iris-virginica'),\n",
       "       (148, 6.5, 3. , 5.2, 2. , b'Iris-virginica'),\n",
       "       (149, 6.2, 3.4, 5.4, 2.3, b'Iris-virginica'),\n",
       "       (150, 5.9, 3. , 5.1, 1.8, b'Iris-virginica')],\n",
       "      dtype=[('Id', '<i4'), ('SepalLengthCm', '<f8'), ('SepalWidthCm', '<f8'), ('PetalLengthCm', '<f8'), ('PetalWidthCm', '<f8'), ('Species', 'S15')])"
      ]
     },
     "execution_count": 30,
     "metadata": {},
     "output_type": "execute_result"
    }
   ],
   "source": [
    "data"
   ]
  },
  {
   "cell_type": "code",
   "execution_count": 31,
   "id": "84d0f5ac-51a6-442a-a69a-a61610af5522",
   "metadata": {},
   "outputs": [
    {
     "ename": "IndexError",
     "evalue": "too many indices for array: array is 1-dimensional, but 2 were indexed",
     "output_type": "error",
     "traceback": [
      "\u001b[1;31m---------------------------------------------------------------------------\u001b[0m",
      "\u001b[1;31mIndexError\u001b[0m                                Traceback (most recent call last)",
      "Cell \u001b[1;32mIn[31], line 1\u001b[0m\n\u001b[1;32m----> 1\u001b[0m \u001b[38;5;28mprint\u001b[39m(data[\u001b[38;5;241m0\u001b[39m,\u001b[38;5;241m1\u001b[39m])\n",
      "\u001b[1;31mIndexError\u001b[0m: too many indices for array: array is 1-dimensional, but 2 were indexed"
     ]
    }
   ],
   "source": [
    "print(data[0,1])"
   ]
  },
  {
   "cell_type": "code",
   "execution_count": null,
   "id": "6a328f11-9ad6-4094-96df-48363a593be4",
   "metadata": {},
   "outputs": [],
   "source": []
  }
 ],
 "metadata": {
  "kernelspec": {
   "display_name": "Python 3 (ipykernel)",
   "language": "python",
   "name": "python3"
  },
  "language_info": {
   "codemirror_mode": {
    "name": "ipython",
    "version": 3
   },
   "file_extension": ".py",
   "mimetype": "text/x-python",
   "name": "python",
   "nbconvert_exporter": "python",
   "pygments_lexer": "ipython3",
   "version": "3.11.7"
  }
 },
 "nbformat": 4,
 "nbformat_minor": 5
}
