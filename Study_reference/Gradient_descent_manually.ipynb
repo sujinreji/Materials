{
 "cells": [
  {
   "cell_type": "code",
   "execution_count": null,
   "id": "290fc318-61e1-4355-9428-2cf264d816fe",
   "metadata": {},
   "outputs": [],
   "source": [
    "class UniveriateLinearRegression:\n",
    "\n",
    "  def __init__(self):\n",
    "    self.theta_0 = None\n",
    "    self.theta_1 = None\n",
    "\n",
    "  def hypothesis(self,x):\n",
    "    return self.theta_0 + self.theta_1*x\n",
    "\n",
    "  def grad_theta_0 (self,x,y):\n",
    "    ypred = self.hypothesis(x)\n",
    "    return (ypred-y)\n",
    "\n",
    "  def grad_theta_1 (self,x,y):\n",
    "    ypred = self.hypothesis(x)\n",
    "    return (ypred-y)*x\n",
    "\n",
    "  def fit(self,X,Y,epochs=1,learning_rate=.01):\n",
    "\n",
    "    self.theta_0 = 0.0\n",
    "    self.theta_1 = 0.0\n",
    "    m = X.shape[0]\n",
    "    for i in range(epochs):\n",
    "      dtheta_0 = 0.0\n",
    "      dtheta_1 = 0.0\n",
    "      for x,y in zip(X,Y):\n",
    "        dtheta_0 = dtheta_0 + self.grad_theta_0(x,y)\n",
    "        dtheta_1 = dtheta_1 + self.grad_theta_1(x,y)\n",
    "      self.theta_0 = self.theta_0 - learning_rate * dtheta_0 / m\n",
    "      self.theta_1 = self.theta_1 - learning_rate * dtheta_1 / m\n",
    "\n",
    "  def predict(self,X):\n",
    "    y_pred = []\n",
    "    for x in X:\n",
    "      y_pred.append(self.hypothesis(x))\n",
    "    return np.array(y_pred)\n"
   ]
  }
 ],
 "metadata": {
  "kernelspec": {
   "display_name": "Python 3 (ipykernel)",
   "language": "python",
   "name": "python3"
  },
  "language_info": {
   "codemirror_mode": {
    "name": "ipython",
    "version": 3
   },
   "file_extension": ".py",
   "mimetype": "text/x-python",
   "name": "python",
   "nbconvert_exporter": "python",
   "pygments_lexer": "ipython3",
   "version": "3.11.7"
  }
 },
 "nbformat": 4,
 "nbformat_minor": 5
}
