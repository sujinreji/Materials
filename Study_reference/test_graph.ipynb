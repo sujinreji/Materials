{
 "cells": [
  {
   "cell_type": "code",
   "execution_count": 1,
   "id": "238337c8-1b1d-4793-a950-e7136e63db6d",
   "metadata": {},
   "outputs": [],
   "source": [
    "import pydot\n",
    "# Create a new graph\n",
    "graph = pydot.Dot(graph_type='graph')"
   ]
  },
  {
   "cell_type": "code",
   "execution_count": 2,
   "id": "4c797982-34da-492c-b6d0-50322ee93d05",
   "metadata": {},
   "outputs": [],
   "source": [
    "# Add nodes\n",
    "node_a = pydot.Node(\"A\")\n",
    "node_b = pydot.Node(\"B\")\n",
    "node_c = pydot.Node(\"C\")\n",
    "graph.add_node(node_a)\n",
    "graph.add_node(node_b)\n",
    "graph.add_node(node_c)"
   ]
  },
  {
   "cell_type": "code",
   "execution_count": 3,
   "id": "8ebc1a56-1621-4f12-93b9-dcd5a0a263b0",
   "metadata": {},
   "outputs": [],
   "source": [
    "# Add edges\n",
    "edge_ab = pydot.Edge(node_a, node_b)\n",
    "edge_bc = pydot.Edge(node_b, node_c)\n",
    "graph.add_edge(edge_ab)\n",
    "graph.add_edge(edge_bc)"
   ]
  },
  {
   "cell_type": "code",
   "execution_count": 5,
   "id": "bf9a78e4-8205-4fab-a738-fc09b460b758",
   "metadata": {},
   "outputs": [],
   "source": [
    "# # Save the graph to a file\n",
    "graph.write_png(\"hello.png\")\n"
   ]
  },
  {
   "cell_type": "code",
   "execution_count": null,
   "id": "4db20555-ba8e-429b-978c-e57bdaf4a062",
   "metadata": {},
   "outputs": [],
   "source": []
  },
  {
   "cell_type": "code",
   "execution_count": null,
   "id": "ee23ca67-c92c-40c0-b8ea-816291d3c4b0",
   "metadata": {},
   "outputs": [],
   "source": []
  },
  {
   "cell_type": "code",
   "execution_count": null,
   "id": "fa8cf15b-3d69-45ae-ab76-e38040582d76",
   "metadata": {},
   "outputs": [],
   "source": []
  }
 ],
 "metadata": {
  "kernelspec": {
   "display_name": "Python 3 (ipykernel)",
   "language": "python",
   "name": "python3"
  },
  "language_info": {
   "codemirror_mode": {
    "name": "ipython",
    "version": 3
   },
   "file_extension": ".py",
   "mimetype": "text/x-python",
   "name": "python",
   "nbconvert_exporter": "python",
   "pygments_lexer": "ipython3",
   "version": "3.11.7"
  }
 },
 "nbformat": 4,
 "nbformat_minor": 5
}
