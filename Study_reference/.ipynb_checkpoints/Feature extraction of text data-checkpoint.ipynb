{
 "cells": [
  {
   "cell_type": "code",
   "execution_count": 1,
   "id": "e183724f-47de-4e8d-aa5f-6dc2d6809d85",
   "metadata": {},
   "outputs": [
    {
     "name": "stderr",
     "output_type": "stream",
     "text": [
      "[nltk_data] Downloading package stopwords to\n",
      "[nltk_data]     C:\\Users\\Administrator\\AppData\\Roaming\\nltk_data...\n",
      "[nltk_data]   Package stopwords is already up-to-date!\n"
     ]
    },
    {
     "data": {
      "text/plain": [
       "True"
      ]
     },
     "execution_count": 1,
     "metadata": {},
     "output_type": "execute_result"
    }
   ],
   "source": [
    "import numpy as np\n",
    "import pandas as pd\n",
    "import re\n",
    "from nltk.corpus import stopwords\n",
    "from nltk.stem.porter import PorterStemmer\n",
    "from sklearn.feature_extraction.text import TfidfVectorizer\n",
    "import nltk\n",
    "nltk.download('stopwords')"
   ]
  },
  {
   "cell_type": "code",
   "execution_count": 2,
   "id": "12032eeb-59f6-4b82-a5e7-f319022d65aa",
   "metadata": {},
   "outputs": [],
   "source": [
    "# stopwords.words('english')"
   ]
  },
  {
   "cell_type": "code",
   "execution_count": 3,
   "id": "6db279ef-38a7-4593-88ed-7cf9beb8a166",
   "metadata": {},
   "outputs": [],
   "source": [
    "fake_news = pd.read_csv(r\"E:\\Demo Datasets\\fake_news_dataset.csv\")"
   ]
  },
  {
   "cell_type": "code",
   "execution_count": 4,
   "id": "eb21f7e6-fc8b-4aa3-916d-17fdfc6523d2",
   "metadata": {},
   "outputs": [],
   "source": [
    "# fake_news"
   ]
  },
  {
   "cell_type": "code",
   "execution_count": 5,
   "id": "5bf927fd-7585-41db-b05e-b23acd542c9c",
   "metadata": {},
   "outputs": [
    {
     "data": {
      "text/plain": [
       "id           0\n",
       "title      558\n",
       "author    1957\n",
       "text        39\n",
       "label        0\n",
       "dtype: int64"
      ]
     },
     "execution_count": 5,
     "metadata": {},
     "output_type": "execute_result"
    }
   ],
   "source": [
    "fake_news.isnull().sum()"
   ]
  },
  {
   "cell_type": "code",
   "execution_count": 6,
   "id": "8c71ab24-6866-4dcb-bc80-92595f114c28",
   "metadata": {},
   "outputs": [],
   "source": [
    "fake_news = fake_news.fillna('')"
   ]
  },
  {
   "cell_type": "code",
   "execution_count": 7,
   "id": "ceb49445-9d8f-4a27-a95e-b2258e320999",
   "metadata": {},
   "outputs": [],
   "source": [
    "# fake_news"
   ]
  },
  {
   "cell_type": "code",
   "execution_count": 8,
   "id": "67d9420b-97d8-439d-abb0-a25c68d213fc",
   "metadata": {},
   "outputs": [
    {
     "data": {
      "text/plain": [
       "id        0\n",
       "title     0\n",
       "author    0\n",
       "text      0\n",
       "label     0\n",
       "dtype: int64"
      ]
     },
     "execution_count": 8,
     "metadata": {},
     "output_type": "execute_result"
    }
   ],
   "source": [
    "fake_news.isnull().sum()"
   ]
  },
  {
   "cell_type": "code",
   "execution_count": 9,
   "id": "d4b68075-37af-4594-bd3a-0b71d02efeaf",
   "metadata": {},
   "outputs": [],
   "source": [
    "# merging the title and author name\n",
    "fake_news['Content'] = fake_news['author'] + fake_news['title']"
   ]
  },
  {
   "cell_type": "code",
   "execution_count": 10,
   "id": "6f27eccc-d161-479b-a9ee-8875bd6dd890",
   "metadata": {},
   "outputs": [
    {
     "name": "stdout",
     "output_type": "stream",
     "text": [
      "0        Darrell LucusHouse Dem Aide: We Didn’t Even Se...\n",
      "1        Daniel J. FlynnFLYNN: Hillary Clinton, Big Wom...\n",
      "2        Consortiumnews.comWhy the Truth Might Get You ...\n",
      "3        Jessica Purkiss15 Civilians Killed In Single U...\n",
      "4        Howard PortnoyIranian woman jailed for fiction...\n",
      "                               ...                        \n",
      "20795    Jerome HudsonRapper T.I.: Trump a ’Poster Chil...\n",
      "20796    Benjamin HoffmanN.F.L. Playoffs: Schedule, Mat...\n",
      "20797    Michael J. de la Merced and Rachel AbramsMacy’...\n",
      "20798    Alex AnsaryNATO, Russia To Hold Parallel Exerc...\n",
      "20799               David SwansonWhat Keeps the F-35 Alive\n",
      "Name: Content, Length: 20800, dtype: object\n"
     ]
    }
   ],
   "source": [
    "print(fake_news['Content'])\n"
   ]
  },
  {
   "cell_type": "code",
   "execution_count": 11,
   "id": "ea6dc608-4d48-4f27-bc86-48ecde8806e5",
   "metadata": {
    "scrolled": true
   },
   "outputs": [],
   "source": [
    "# type(fake_news['Content'])"
   ]
  },
  {
   "cell_type": "code",
   "execution_count": 12,
   "id": "fe67b81a-c34b-4860-b733-b2e2b5f22edb",
   "metadata": {},
   "outputs": [
    {
     "name": "stdout",
     "output_type": "stream",
     "text": [
      "          id                                              title  \\\n",
      "0          0  House Dem Aide: We Didn’t Even See Comey’s Let...   \n",
      "1          1  FLYNN: Hillary Clinton, Big Woman on Campus - ...   \n",
      "2          2                  Why the Truth Might Get You Fired   \n",
      "3          3  15 Civilians Killed In Single US Airstrike Hav...   \n",
      "4          4  Iranian woman jailed for fictional unpublished...   \n",
      "...      ...                                                ...   \n",
      "20795  20795  Rapper T.I.: Trump a ’Poster Child For White S...   \n",
      "20796  20796  N.F.L. Playoffs: Schedule, Matchups and Odds -...   \n",
      "20797  20797  Macy’s Is Said to Receive Takeover Approach by...   \n",
      "20798  20798  NATO, Russia To Hold Parallel Exercises In Bal...   \n",
      "20799  20799                          What Keeps the F-35 Alive   \n",
      "\n",
      "                                          author  \\\n",
      "0                                  Darrell Lucus   \n",
      "1                                Daniel J. Flynn   \n",
      "2                             Consortiumnews.com   \n",
      "3                                Jessica Purkiss   \n",
      "4                                 Howard Portnoy   \n",
      "...                                          ...   \n",
      "20795                              Jerome Hudson   \n",
      "20796                           Benjamin Hoffman   \n",
      "20797  Michael J. de la Merced and Rachel Abrams   \n",
      "20798                                Alex Ansary   \n",
      "20799                              David Swanson   \n",
      "\n",
      "                                                    text  \\\n",
      "0      House Dem Aide: We Didn’t Even See Comey’s Let...   \n",
      "1      Ever get the feeling your life circles the rou...   \n",
      "2      Why the Truth Might Get You Fired October 29, ...   \n",
      "3      Videos 15 Civilians Killed In Single US Airstr...   \n",
      "4      Print \\nAn Iranian woman has been sentenced to...   \n",
      "...                                                  ...   \n",
      "20795  Rapper T. I. unloaded on black celebrities who...   \n",
      "20796  When the Green Bay Packers lost to the Washing...   \n",
      "20797  The Macy’s of today grew from the union of sev...   \n",
      "20798  NATO, Russia To Hold Parallel Exercises In Bal...   \n",
      "20799    David Swanson is an author, activist, journa...   \n",
      "\n",
      "                                                 Content  \n",
      "0      Darrell LucusHouse Dem Aide: We Didn’t Even Se...  \n",
      "1      Daniel J. FlynnFLYNN: Hillary Clinton, Big Wom...  \n",
      "2      Consortiumnews.comWhy the Truth Might Get You ...  \n",
      "3      Jessica Purkiss15 Civilians Killed In Single U...  \n",
      "4      Howard PortnoyIranian woman jailed for fiction...  \n",
      "...                                                  ...  \n",
      "20795  Jerome HudsonRapper T.I.: Trump a ’Poster Chil...  \n",
      "20796  Benjamin HoffmanN.F.L. Playoffs: Schedule, Mat...  \n",
      "20797  Michael J. de la Merced and Rachel AbramsMacy’...  \n",
      "20798  Alex AnsaryNATO, Russia To Hold Parallel Exerc...  \n",
      "20799             David SwansonWhat Keeps the F-35 Alive  \n",
      "\n",
      "[20800 rows x 5 columns]\n",
      "0        1\n",
      "1        0\n",
      "2        1\n",
      "3        1\n",
      "4        1\n",
      "        ..\n",
      "20795    0\n",
      "20796    0\n",
      "20797    0\n",
      "20798    1\n",
      "20799    1\n",
      "Name: label, Length: 20800, dtype: int64\n"
     ]
    }
   ],
   "source": [
    "X=fake_news.drop(columns = 'label',axis =1)\n",
    "Y=fake_news['label']\n",
    "print(X)\n",
    "print(Y)"
   ]
  },
  {
   "cell_type": "code",
   "execution_count": 13,
   "id": "f07c5c1f-452d-4bd5-bc36-110d798ab16b",
   "metadata": {},
   "outputs": [],
   "source": [
    "# STEMMING"
   ]
  },
  {
   "cell_type": "code",
   "execution_count": 14,
   "id": "aea9da57-7740-4139-a12a-98945367717f",
   "metadata": {},
   "outputs": [],
   "source": [
    "port_stem = PorterStemmer()"
   ]
  },
  {
   "cell_type": "code",
   "execution_count": 15,
   "id": "076625b3-87ee-47b5-827d-4a29357470f2",
   "metadata": {},
   "outputs": [],
   "source": [
    "def stemming(content):\n",
    "    stemmed_content = re.sub('[^a-zA-Z]',' ',content)\n",
    "    stemmed_content = stemmed_content.lower()\n",
    "    stemmed_content = stemmed_content.split()\n",
    "    stemmed_content = [port_stem.stem(word) for word in stemmed_content\n",
    "                      if not word in stopwords.words('english')]\n",
    "    stemmed_content = ' '.join(stemmed_content)\n",
    "    return stemmed_content"
   ]
  },
  {
   "cell_type": "code",
   "execution_count": 16,
   "id": "7f4d3897-773e-45d4-a91e-2e23f334f484",
   "metadata": {},
   "outputs": [],
   "source": [
    "# ex_cont = \"This is the example sentance to demonsatrate\"\n",
    "# p=stemming(ex_cont)\n",
    "# print(p)\n",
    "# # fake_news['Content'] = stemming(fake_news['Content'])"
   ]
  },
  {
   "cell_type": "code",
   "execution_count": 17,
   "id": "3d3da275-a736-4bcb-a05c-ea85fe4fda6f",
   "metadata": {},
   "outputs": [],
   "source": [
    "fake_news['Content'] = fake_news['Content'].apply(stemming)"
   ]
  },
  {
   "cell_type": "code",
   "execution_count": 18,
   "id": "f0f0e781-88a9-4c1c-91b9-b86ce367862c",
   "metadata": {},
   "outputs": [
    {
     "name": "stdout",
     "output_type": "stream",
     "text": [
      "0        darrel lucushous dem aid even see comey letter...\n",
      "1        daniel j flynnflynn hillari clinton big woman ...\n",
      "2                consortiumnew comwhi truth might get fire\n",
      "3        jessica purkiss civilian kill singl us airstri...\n",
      "4        howard portnoyiranian woman jail fiction unpub...\n",
      "                               ...                        \n",
      "20795    jerom hudsonrapp trump poster child white supr...\n",
      "20796    benjamin hoffmann f l playoff schedul matchup ...\n",
      "20797    michael j de la merc rachel abramsmaci said re...\n",
      "20798    alex ansarynato russia hold parallel exercis b...\n",
      "20799                        david swansonwhat keep f aliv\n",
      "Name: Content, Length: 20800, dtype: object\n"
     ]
    }
   ],
   "source": [
    "print(fake_news['Content'])"
   ]
  },
  {
   "cell_type": "code",
   "execution_count": 19,
   "id": "9f086b72-b304-484d-a497-766287bb46c9",
   "metadata": {},
   "outputs": [],
   "source": [
    "# X= fake_news['Content'].values\n",
    "# Y = fake_news['label'].values"
   ]
  },
  {
   "cell_type": "code",
   "execution_count": 20,
   "id": "52d31643-2462-4310-8c85-cccb8b54846f",
   "metadata": {},
   "outputs": [
    {
     "data": {
      "text/plain": [
       "array(['darrel lucushous dem aid even see comey letter jason chaffetz tweet',\n",
       "       'daniel j flynnflynn hillari clinton big woman campu breitbart',\n",
       "       'consortiumnew comwhi truth might get fire', ...,\n",
       "       'michael j de la merc rachel abramsmaci said receiv takeov approach hudson bay new york time',\n",
       "       'alex ansarynato russia hold parallel exercis balkan',\n",
       "       'david swansonwhat keep f aliv'], dtype=object)"
      ]
     },
     "execution_count": 20,
     "metadata": {},
     "output_type": "execute_result"
    }
   ],
   "source": []
  },
  {
   "cell_type": "code",
   "execution_count": null,
   "id": "e39ea937-ea2b-4422-8b61-04ca489e4ef1",
   "metadata": {},
   "outputs": [],
   "source": []
  },
  {
   "cell_type": "code",
   "execution_count": null,
   "id": "19e5c341-da68-487c-a583-f184c07a3159",
   "metadata": {},
   "outputs": [],
   "source": []
  },
  {
   "cell_type": "code",
   "execution_count": null,
   "id": "2c39b845-db0e-4aca-b40d-4f6b2234acf2",
   "metadata": {},
   "outputs": [],
   "source": []
  },
  {
   "cell_type": "code",
   "execution_count": null,
   "id": "71b129b8-6659-459b-86e5-7c48cba9f628",
   "metadata": {},
   "outputs": [],
   "source": []
  }
 ],
 "metadata": {
  "kernelspec": {
   "display_name": "Python 3 (ipykernel)",
   "language": "python",
   "name": "python3"
  },
  "language_info": {
   "codemirror_mode": {
    "name": "ipython",
    "version": 3
   },
   "file_extension": ".py",
   "mimetype": "text/x-python",
   "name": "python",
   "nbconvert_exporter": "python",
   "pygments_lexer": "ipython3",
   "version": "3.11.7"
  }
 },
 "nbformat": 4,
 "nbformat_minor": 5
}
