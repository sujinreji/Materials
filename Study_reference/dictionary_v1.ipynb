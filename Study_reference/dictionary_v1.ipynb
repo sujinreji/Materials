{
 "cells": [
  {
   "cell_type": "code",
   "execution_count": 63,
   "id": "e8951196-1e11-461f-bb1a-2fe1815e50f3",
   "metadata": {},
   "outputs": [],
   "source": [
    "capitals = {\"USA\":\"Washington D C\",\"INDIA\":\"Nee Delhi\",\"RUSSIA\":\"Moscow\",\"CHINA\":\"Beijing\"}"
   ]
  },
  {
   "cell_type": "code",
   "execution_count": 64,
   "id": "1c453b98-4804-404f-8e22-7fa839edd24e",
   "metadata": {},
   "outputs": [
    {
     "name": "stdout",
     "output_type": "stream",
     "text": [
      "['__class__', '__class_getitem__', '__contains__', '__delattr__', '__delitem__', '__dir__', '__doc__', '__eq__', '__format__', '__ge__', '__getattribute__', '__getitem__', '__getstate__', '__gt__', '__hash__', '__init__', '__init_subclass__', '__ior__', '__iter__', '__le__', '__len__', '__lt__', '__ne__', '__new__', '__or__', '__reduce__', '__reduce_ex__', '__repr__', '__reversed__', '__ror__', '__setattr__', '__setitem__', '__sizeof__', '__str__', '__subclasshook__', 'clear', 'copy', 'fromkeys', 'get', 'items', 'keys', 'pop', 'popitem', 'setdefault', 'update', 'values']\n"
     ]
    }
   ],
   "source": [
    "print(dir(capitals))"
   ]
  },
  {
   "cell_type": "code",
   "execution_count": 65,
   "id": "844f03e3-77a3-4313-b996-d423a80f6cd0",
   "metadata": {},
   "outputs": [
    {
     "name": "stdout",
     "output_type": "stream",
     "text": [
      "Help on dict object:\n",
      "\n",
      "class dict(object)\n",
      " |  dict() -> new empty dictionary\n",
      " |  dict(mapping) -> new dictionary initialized from a mapping object's\n",
      " |      (key, value) pairs\n",
      " |  dict(iterable) -> new dictionary initialized as if via:\n",
      " |      d = {}\n",
      " |      for k, v in iterable:\n",
      " |          d[k] = v\n",
      " |  dict(**kwargs) -> new dictionary initialized with the name=value pairs\n",
      " |      in the keyword argument list.  For example:  dict(one=1, two=2)\n",
      " |  \n",
      " |  Built-in subclasses:\n",
      " |      StgDict\n",
      " |  \n",
      " |  Methods defined here:\n",
      " |  \n",
      " |  __contains__(self, key, /)\n",
      " |      True if the dictionary has the specified key, else False.\n",
      " |  \n",
      " |  __delitem__(self, key, /)\n",
      " |      Delete self[key].\n",
      " |  \n",
      " |  __eq__(self, value, /)\n",
      " |      Return self==value.\n",
      " |  \n",
      " |  __ge__(self, value, /)\n",
      " |      Return self>=value.\n",
      " |  \n",
      " |  __getattribute__(self, name, /)\n",
      " |      Return getattr(self, name).\n",
      " |  \n",
      " |  __getitem__(...)\n",
      " |      x.__getitem__(y) <==> x[y]\n",
      " |  \n",
      " |  __gt__(self, value, /)\n",
      " |      Return self>value.\n",
      " |  \n",
      " |  __init__(self, /, *args, **kwargs)\n",
      " |      Initialize self.  See help(type(self)) for accurate signature.\n",
      " |  \n",
      " |  __ior__(self, value, /)\n",
      " |      Return self|=value.\n",
      " |  \n",
      " |  __iter__(self, /)\n",
      " |      Implement iter(self).\n",
      " |  \n",
      " |  __le__(self, value, /)\n",
      " |      Return self<=value.\n",
      " |  \n",
      " |  __len__(self, /)\n",
      " |      Return len(self).\n",
      " |  \n",
      " |  __lt__(self, value, /)\n",
      " |      Return self<value.\n",
      " |  \n",
      " |  __ne__(self, value, /)\n",
      " |      Return self!=value.\n",
      " |  \n",
      " |  __or__(self, value, /)\n",
      " |      Return self|value.\n",
      " |  \n",
      " |  __repr__(self, /)\n",
      " |      Return repr(self).\n",
      " |  \n",
      " |  __reversed__(self, /)\n",
      " |      Return a reverse iterator over the dict keys.\n",
      " |  \n",
      " |  __ror__(self, value, /)\n",
      " |      Return value|self.\n",
      " |  \n",
      " |  __setitem__(self, key, value, /)\n",
      " |      Set self[key] to value.\n",
      " |  \n",
      " |  __sizeof__(...)\n",
      " |      D.__sizeof__() -> size of D in memory, in bytes\n",
      " |  \n",
      " |  clear(...)\n",
      " |      D.clear() -> None.  Remove all items from D.\n",
      " |  \n",
      " |  copy(...)\n",
      " |      D.copy() -> a shallow copy of D\n",
      " |  \n",
      " |  get(self, key, default=None, /)\n",
      " |      Return the value for key if key is in the dictionary, else default.\n",
      " |  \n",
      " |  items(...)\n",
      " |      D.items() -> a set-like object providing a view on D's items\n",
      " |  \n",
      " |  keys(...)\n",
      " |      D.keys() -> a set-like object providing a view on D's keys\n",
      " |  \n",
      " |  pop(...)\n",
      " |      D.pop(k[,d]) -> v, remove specified key and return the corresponding value.\n",
      " |      \n",
      " |      If the key is not found, return the default if given; otherwise,\n",
      " |      raise a KeyError.\n",
      " |  \n",
      " |  popitem(self, /)\n",
      " |      Remove and return a (key, value) pair as a 2-tuple.\n",
      " |      \n",
      " |      Pairs are returned in LIFO (last-in, first-out) order.\n",
      " |      Raises KeyError if the dict is empty.\n",
      " |  \n",
      " |  setdefault(self, key, default=None, /)\n",
      " |      Insert key with a value of default if key is not in the dictionary.\n",
      " |      \n",
      " |      Return the value for key if key is in the dictionary, else default.\n",
      " |  \n",
      " |  update(...)\n",
      " |      D.update([E, ]**F) -> None.  Update D from dict/iterable E and F.\n",
      " |      If E is present and has a .keys() method, then does:  for k in E: D[k] = E[k]\n",
      " |      If E is present and lacks a .keys() method, then does:  for k, v in E: D[k] = v\n",
      " |      In either case, this is followed by: for k in F:  D[k] = F[k]\n",
      " |  \n",
      " |  values(...)\n",
      " |      D.values() -> an object providing a view on D's values\n",
      " |  \n",
      " |  ----------------------------------------------------------------------\n",
      " |  Class methods defined here:\n",
      " |  \n",
      " |  __class_getitem__(...) from builtins.type\n",
      " |      See PEP 585\n",
      " |  \n",
      " |  fromkeys(iterable, value=None, /) from builtins.type\n",
      " |      Create a new dictionary with keys from iterable and values set to value.\n",
      " |  \n",
      " |  ----------------------------------------------------------------------\n",
      " |  Static methods defined here:\n",
      " |  \n",
      " |  __new__(*args, **kwargs) from builtins.type\n",
      " |      Create and return a new object.  See help(type) for accurate signature.\n",
      " |  \n",
      " |  ----------------------------------------------------------------------\n",
      " |  Data and other attributes defined here:\n",
      " |  \n",
      " |  __hash__ = None\n",
      "\n",
      "None\n"
     ]
    }
   ],
   "source": [
    "print(help(capitals))"
   ]
  },
  {
   "cell_type": "code",
   "execution_count": 88,
   "id": "d7415ad2-6206-49b6-a642-c66dab46d698",
   "metadata": {},
   "outputs": [
    {
     "name": "stdout",
     "output_type": "stream",
     "text": [
      "hehe\n",
      "None\n"
     ]
    },
    {
     "data": {
      "text/plain": [
       "'hehe'"
      ]
     },
     "execution_count": 88,
     "metadata": {},
     "output_type": "execute_result"
    }
   ],
   "source": [
    "print(capitals.get(\"USA\"))     #it will give the value of the key\n",
    "print(capitals.get(\"JAPAN\"))   #if no value in that name is present it will return none\n",
    "capitals[\"USA\"]"
   ]
  },
  {
   "cell_type": "code",
   "execution_count": 86,
   "id": "bb7b25cc-09c7-4a00-84de-473e3a013277",
   "metadata": {},
   "outputs": [
    {
     "name": "stdout",
     "output_type": "stream",
     "text": [
      "This key doesnt exists\n"
     ]
    }
   ],
   "source": [
    "if capitals.get(\"JAPAN\"):\n",
    "    print(\"This key exists\")\n",
    "else:\n",
    "    print(\"This key doesnt exists\")"
   ]
  },
  {
   "cell_type": "code",
   "execution_count": 87,
   "id": "2a073652-081c-4b08-ba53-cc3c85079e26",
   "metadata": {},
   "outputs": [],
   "source": [
    "capitals.update({\"GERMANY\":\"Berlin\"})\n",
    "capitals.update({\"USA\":\"hehe\"})"
   ]
  },
  {
   "cell_type": "code",
   "execution_count": 69,
   "id": "d3c64a2f-f686-4bf9-8942-a1ae6fc1738b",
   "metadata": {},
   "outputs": [
    {
     "name": "stdout",
     "output_type": "stream",
     "text": [
      "{'USA': 'hehe', 'INDIA': 'Nee Delhi', 'RUSSIA': 'Moscow', 'CHINA': 'Beijing', 'GERMANY': 'Berlin'}\n"
     ]
    }
   ],
   "source": [
    "print(capitals)\n"
   ]
  },
  {
   "cell_type": "code",
   "execution_count": 70,
   "id": "50f5f1ed-0be7-448c-947a-15ebebd1ece9",
   "metadata": {},
   "outputs": [],
   "source": [
    "# capitals.pop(\"CHINA\")\n",
    "# print(capitals)"
   ]
  },
  {
   "cell_type": "code",
   "execution_count": 71,
   "id": "bc72152f-541c-4007-9cae-afafb32ddd0b",
   "metadata": {},
   "outputs": [],
   "source": [
    "# capitals.popitem()"
   ]
  },
  {
   "cell_type": "code",
   "execution_count": 72,
   "id": "04498d0c-f1bd-4300-b73a-f743f51a2ab0",
   "metadata": {},
   "outputs": [],
   "source": [
    "# print(capitals)"
   ]
  },
  {
   "cell_type": "code",
   "execution_count": 78,
   "id": "8de87178-83b1-4fce-acdf-0d3b3b4b9439",
   "metadata": {},
   "outputs": [
    {
     "name": "stdout",
     "output_type": "stream",
     "text": [
      "USA\n",
      "INDIA\n",
      "RUSSIA\n",
      "CHINA\n",
      "GERMANY\n"
     ]
    }
   ],
   "source": [
    "capitals.keys()\n",
    "for key in capitals.keys():\n",
    "    print(key)"
   ]
  },
  {
   "cell_type": "code",
   "execution_count": 80,
   "id": "f60c0538-b581-4028-a157-3807e9e76312",
   "metadata": {},
   "outputs": [
    {
     "name": "stdout",
     "output_type": "stream",
     "text": [
      "hehe\n",
      "Nee Delhi\n",
      "Moscow\n",
      "Beijing\n",
      "Berlin\n"
     ]
    }
   ],
   "source": [
    "capitals.values()\n",
    "for value in capitals.values():\n",
    "    print(value)"
   ]
  },
  {
   "cell_type": "code",
   "execution_count": 81,
   "id": "094d869d-d20a-488f-ac1c-0f0a67c0b8b9",
   "metadata": {},
   "outputs": [
    {
     "data": {
      "text/plain": [
       "dict_items([('USA', 'hehe'), ('INDIA', 'Nee Delhi'), ('RUSSIA', 'Moscow'), ('CHINA', 'Beijing'), ('GERMANY', 'Berlin')])"
      ]
     },
     "execution_count": 81,
     "metadata": {},
     "output_type": "execute_result"
    }
   ],
   "source": [
    "capitals.items()"
   ]
  },
  {
   "cell_type": "code",
   "execution_count": 83,
   "id": "476b8c6d-07f4-4657-91bc-29b7f6cb3f16",
   "metadata": {},
   "outputs": [
    {
     "name": "stdout",
     "output_type": "stream",
     "text": [
      "USA::hehe\n",
      "INDIA::Nee Delhi\n",
      "RUSSIA::Moscow\n",
      "CHINA::Beijing\n",
      "GERMANY::Berlin\n"
     ]
    }
   ],
   "source": [
    "for a, b in capitals.items():\n",
    "    print(f\"{a}::{b}\")"
   ]
  },
  {
   "cell_type": "code",
   "execution_count": null,
   "id": "dc48a4b5-d9e6-4988-ac1c-bb3b58ad2c43",
   "metadata": {},
   "outputs": [],
   "source": []
  }
 ],
 "metadata": {
  "kernelspec": {
   "display_name": "Python 3 (ipykernel)",
   "language": "python",
   "name": "python3"
  },
  "language_info": {
   "codemirror_mode": {
    "name": "ipython",
    "version": 3
   },
   "file_extension": ".py",
   "mimetype": "text/x-python",
   "name": "python",
   "nbconvert_exporter": "python",
   "pygments_lexer": "ipython3",
   "version": "3.11.7"
  }
 },
 "nbformat": 4,
 "nbformat_minor": 5
}
