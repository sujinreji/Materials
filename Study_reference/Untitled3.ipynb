{
 "cells": [
  {
   "cell_type": "code",
   "execution_count": 1,
   "id": "bd08d7b9-4ef0-480e-8b9f-9c09515c9393",
   "metadata": {},
   "outputs": [
    {
     "name": "stdout",
     "output_type": "stream",
     "text": [
      "File: base.stl\n",
      "Dimensions (width x height x depth): 50.00 x 40.00 x 4.00\n",
      "File: elbow_to_wrist.stl\n",
      "Dimensions (width x height x depth): 22.00 x 42.00 x 28.00\n",
      "File: elbow_to_wrist_extension.stl\n",
      "Dimensions (width x height x depth): 35.00 x 90.10 x 23.00\n",
      "File: gripper_handle.stl\n",
      "Dimensions (width x height x depth): 27.00 x 44.50 x 75.00\n",
      "File: gripper_trigger.stl\n",
      "Dimensions (width x height x depth): 23.00 x 28.00 x 50.00\n",
      "File: leader_arm.stl\n",
      "Dimensions (width x height x depth): 56.12 x 168.62 x 179.00\n",
      "File: shoulder_to_elbow.stl\n",
      "Dimensions (width x height x depth): 15.60 x 35.00 x 120.00\n"
     ]
    }
   ],
   "source": [
    "import os\n",
    "import numpy as np\n",
    "from stl import mesh\n",
    "\n",
    "def get_dimension_info(stl_file_path):\n",
    "    # Load the STL file\n",
    "    your_mesh = mesh.Mesh.from_file(stl_file_path)\n",
    "\n",
    "    # Get the minimum and maximum coordinates along each axis\n",
    "    min_x, min_y, min_z = np.min(your_mesh.vectors, axis=0)\n",
    "    max_x, max_y, max_z = np.max(your_mesh.vectors, axis=0)\n",
    "\n",
    "    # Calculate dimensions\n",
    "    width = max_x[0] - min_x[0]\n",
    "    height = max_y[1] - min_y[1]\n",
    "    depth = max_z[2] - min_z[2]\n",
    "\n",
    "    return width, height, depth\n",
    "\n",
    "def main(folder_path):\n",
    "    for file_name in os.listdir(folder_path):\n",
    "        if file_name.endswith(\".stl\"):\n",
    "            stl_file_path = os.path.join(folder_path, file_name)\n",
    "            width, height, depth = get_dimension_info(stl_file_path)\n",
    "            print(f\"File: {file_name}\")\n",
    "            print(f\"Dimensions (width x height x depth): {width:.2f} x {height:.2f} x {depth:.2f}\")\n",
    "\n",
    "if __name__ == \"__main__\":\n",
    "    folder_path = r\"C:\\Users\\Administrator\\Taske6_stl_files\"\n",
    "    main(folder_path)\n"
   ]
  },
  {
   "cell_type": "code",
   "execution_count": null,
   "id": "9afb582f-5012-41a6-9d09-26bb3eb600c3",
   "metadata": {},
   "outputs": [],
   "source": []
  }
 ],
 "metadata": {
  "kernelspec": {
   "display_name": "Python 3 (ipykernel)",
   "language": "python",
   "name": "python3"
  },
  "language_info": {
   "codemirror_mode": {
    "name": "ipython",
    "version": 3
   },
   "file_extension": ".py",
   "mimetype": "text/x-python",
   "name": "python",
   "nbconvert_exporter": "python",
   "pygments_lexer": "ipython3",
   "version": "3.11.7"
  }
 },
 "nbformat": 4,
 "nbformat_minor": 5
}
