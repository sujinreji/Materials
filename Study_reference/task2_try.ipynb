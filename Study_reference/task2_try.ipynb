{
 "cells": [
  {
   "cell_type": "code",
   "execution_count": 1,
   "metadata": {},
   "outputs": [],
   "source": [
    "#importing libraries\n",
    "import numpy as np\n",
    "import torch\n",
    "import pandas as pd\n",
    "import sklearn  \n",
    "from sklearn.model_selection import train_test_split\n",
    "import torch.nn as nn\n",
    "import torch.nn.functional as F\n",
    "import torch.optim as optim\n",
    "import matplotlib.pyplot as plt\n",
    "from numba import njit, prange"
   ]
  },
  {
   "cell_type": "code",
   "execution_count": 2,
   "metadata": {},
   "outputs": [],
   "source": [
    "#load dataset \n",
    "dataset = pd.read_csv(\"https://raw.githubusercontent.com/jbrownlee/Datasets/master/pima-indians-diabetes.data.csv\")"
   ]
  },
  {
   "cell_type": "code",
   "execution_count": 3,
   "metadata": {},
   "outputs": [
    {
     "data": {
      "text/html": [
       "<div>\n",
       "<style scoped>\n",
       "    .dataframe tbody tr th:only-of-type {\n",
       "        vertical-align: middle;\n",
       "    }\n",
       "\n",
       "    .dataframe tbody tr th {\n",
       "        vertical-align: top;\n",
       "    }\n",
       "\n",
       "    .dataframe thead th {\n",
       "        text-align: right;\n",
       "    }\n",
       "</style>\n",
       "<table border=\"1\" class=\"dataframe\">\n",
       "  <thead>\n",
       "    <tr style=\"text-align: right;\">\n",
       "      <th></th>\n",
       "      <th>6</th>\n",
       "      <th>148</th>\n",
       "      <th>72</th>\n",
       "      <th>35</th>\n",
       "      <th>0</th>\n",
       "      <th>33.6</th>\n",
       "      <th>0.627</th>\n",
       "      <th>50</th>\n",
       "      <th>1</th>\n",
       "    </tr>\n",
       "  </thead>\n",
       "  <tbody>\n",
       "    <tr>\n",
       "      <th>0</th>\n",
       "      <td>1</td>\n",
       "      <td>85</td>\n",
       "      <td>66</td>\n",
       "      <td>29</td>\n",
       "      <td>0</td>\n",
       "      <td>26.6</td>\n",
       "      <td>0.351</td>\n",
       "      <td>31</td>\n",
       "      <td>0</td>\n",
       "    </tr>\n",
       "    <tr>\n",
       "      <th>1</th>\n",
       "      <td>8</td>\n",
       "      <td>183</td>\n",
       "      <td>64</td>\n",
       "      <td>0</td>\n",
       "      <td>0</td>\n",
       "      <td>23.3</td>\n",
       "      <td>0.672</td>\n",
       "      <td>32</td>\n",
       "      <td>1</td>\n",
       "    </tr>\n",
       "    <tr>\n",
       "      <th>2</th>\n",
       "      <td>1</td>\n",
       "      <td>89</td>\n",
       "      <td>66</td>\n",
       "      <td>23</td>\n",
       "      <td>94</td>\n",
       "      <td>28.1</td>\n",
       "      <td>0.167</td>\n",
       "      <td>21</td>\n",
       "      <td>0</td>\n",
       "    </tr>\n",
       "    <tr>\n",
       "      <th>3</th>\n",
       "      <td>0</td>\n",
       "      <td>137</td>\n",
       "      <td>40</td>\n",
       "      <td>35</td>\n",
       "      <td>168</td>\n",
       "      <td>43.1</td>\n",
       "      <td>2.288</td>\n",
       "      <td>33</td>\n",
       "      <td>1</td>\n",
       "    </tr>\n",
       "    <tr>\n",
       "      <th>4</th>\n",
       "      <td>5</td>\n",
       "      <td>116</td>\n",
       "      <td>74</td>\n",
       "      <td>0</td>\n",
       "      <td>0</td>\n",
       "      <td>25.6</td>\n",
       "      <td>0.201</td>\n",
       "      <td>30</td>\n",
       "      <td>0</td>\n",
       "    </tr>\n",
       "  </tbody>\n",
       "</table>\n",
       "</div>"
      ],
      "text/plain": [
       "   6  148  72  35    0  33.6  0.627  50  1\n",
       "0  1   85  66  29    0  26.6  0.351  31  0\n",
       "1  8  183  64   0    0  23.3  0.672  32  1\n",
       "2  1   89  66  23   94  28.1  0.167  21  0\n",
       "3  0  137  40  35  168  43.1  2.288  33  1\n",
       "4  5  116  74   0    0  25.6  0.201  30  0"
      ]
     },
     "execution_count": 3,
     "metadata": {},
     "output_type": "execute_result"
    }
   ],
   "source": [
    "#dataset\n",
    "dataset.head()"
   ]
  },
  {
   "cell_type": "code",
   "execution_count": 4,
   "metadata": {},
   "outputs": [],
   "source": [
    "#X Y split of the data\n",
    "X = dataset.iloc[:,0:8].values        #.value convert the dataset type to numpy\n",
    "Y = dataset.iloc[:,8].values\n",
    "\n",
    "#converting X Y into tensors\n",
    "X = torch.tensor(X, dtype= torch.float32)\n",
    "Y = torch.tensor(Y, dtype= torch.float32)"
   ]
  },
  {
   "cell_type": "code",
   "execution_count": 5,
   "metadata": {},
   "outputs": [
    {
     "name": "stdout",
     "output_type": "stream",
     "text": [
      "torch.Size([767, 8]) torch.Size([767])\n"
     ]
    }
   ],
   "source": [
    "print(X.shape, Y.shape)"
   ]
  },
  {
   "cell_type": "code",
   "execution_count": 6,
   "metadata": {},
   "outputs": [],
   "source": [
    "###Test train split\n",
    "X_train, X_test, Y_train, Y_test = train_test_split(X,Y,test_size=0.2, random_state = 42)\n"
   ]
  },
  {
   "cell_type": "code",
   "execution_count": 7,
   "metadata": {},
   "outputs": [
    {
     "name": "stdout",
     "output_type": "stream",
     "text": [
      "torch.Size([613, 8]) torch.Size([154, 8]) torch.Size([613]) torch.Size([154]) <class 'torch.Tensor'>\n"
     ]
    }
   ],
   "source": [
    "print(X_train.shape , X_test.shape, Y_train.shape, Y_test.shape, type(X_train))"
   ]
  },
  {
   "cell_type": "code",
   "execution_count": 8,
   "metadata": {},
   "outputs": [],
   "source": [
    "#model definition\n",
    "class NN_model(nn.Module):\n",
    "    def __init__(self, input_features=8, hidden_layer1 = 20, hidden_layer2 = 20, output_features=1):\n",
    "        super().__init__()\n",
    "        self.from_input_to_H1 = nn.Linear(input_features, hidden_layer1)\n",
    "        self.from_H1_to_H2 = nn.Linear(hidden_layer1,hidden_layer2)\n",
    "        self.from_H2_to_output = nn.Linear(hidden_layer2,output_features)\n",
    "        #self.relu = nn.ReLU()\n",
    "    def forward(self,x):\n",
    "        x = F.relu(self.from_input_to_H1(x))\n",
    "        x = F.relu(self.from_H1_to_H2(x))\n",
    "        x = F.sigmoid(self.from_H2_to_output(x))\n",
    "        return x\n",
    "        "
   ]
  },
  {
   "cell_type": "code",
   "execution_count": 9,
   "metadata": {},
   "outputs": [
    {
     "data": {
      "text/plain": [
       "<torch._C.Generator at 0x7fd6b56cb7f0>"
      ]
     },
     "execution_count": 9,
     "metadata": {},
     "output_type": "execute_result"
    }
   ],
   "source": [
    "torch.manual_seed(20)\n",
    " "
   ]
  },
  {
   "cell_type": "code",
   "execution_count": 10,
   "metadata": {},
   "outputs": [],
   "source": [
    "#model creating\n",
    "model1 = NN_model()\n",
    "loss_fn1 = nn.BCELoss()\n",
    "optimizer1 = optim.Adam(model1.parameters(),lr=0.0001)\n",
    "model2= NN_model()\n",
    "loss_fn2 = nn.BCELoss()\n",
    "optimizer2 = optim.Adam(model2.parameters(),lr=0.00001)"
   ]
  },
  {
   "cell_type": "code",
   "execution_count": 11,
   "metadata": {},
   "outputs": [],
   "source": [
    "def model_fn(X_train, Y_train, model, optimizer, loss_fn):\n",
    "    epoch = 100\n",
    "    batch_size = 20\n",
    "    loss_calc=[]\n",
    "    for i in range (epoch):\n",
    "        epoch_loss = 0\n",
    "        for a in range(0, len(X_train), batch_size):\n",
    "            X_batch = X_train[a:a+batch_size]\n",
    "            optimizer.zero_grad()\n",
    "            Y_pred = model(X_batch)\n",
    "            Y_batch = Y_train[a:a+batch_size]\n",
    "            loss = loss_fn(Y_pred.squeeze(), Y_batch)\n",
    "            loss.backward()\n",
    "            optimizer.step()\n",
    "            # print(loss)\n",
    "            epoch_loss = epoch_loss + loss.item()\n",
    "            \n",
    "        epoch_loss = epoch_loss/(len(X_train)/batch_size)\n",
    "        loss_calc.append(epoch_loss)\n",
    "\n",
    "        if i % 100 ==0:\n",
    "            print(\"Epoch number\",i)\n",
    "            print(epoch_loss)\n",
    "\n",
    "    plt.plot(loss_calc)\n",
    "    plt.legend()\n",
    "    plt.show()"
   ]
  },
  {
   "cell_type": "code",
   "execution_count": 12,
   "metadata": {
    "scrolled": true
   },
   "outputs": [
    {
     "name": "stdout",
     "output_type": "stream",
     "text": [
      "Epoch number 0\n",
      "0.9248186305140983\n"
     ]
    },
    {
     "name": "stderr",
     "output_type": "stream",
     "text": [
      "No artists with labels found to put in legend.  Note that artists whose label start with an underscore are ignored when legend() is called with no argument.\n"
     ]
    },
    {
     "data": {
      "image/png": "[encoded data removed]",
      "text/plain": [
       "<Figure size 640x480 with 1 Axes>"
      ]
     },
     "metadata": {},
     "output_type": "display_data"
    },
    {
     "name": "stdout",
     "output_type": "stream",
     "text": [
      "CPU times: user 1.55 s, sys: 104 ms, total: 1.65 s\n",
      "Wall time: 1.52 s\n"
     ]
    }
   ],
   "source": [
    "%%time\n",
    "model_fn(X_train,Y_train, model1, optimizer1,loss_fn1)"
   ]
  },
  {
   "cell_type": "code",
   "execution_count": 13,
   "metadata": {},
   "outputs": [],
   "source": [
    "#accuracy\n",
    "def accuracy (model, X_test):\n",
    "    with torch.no_grad():\n",
    "        Y_val = model(X_test)\n",
    "        # print(Y_val)\n",
    "        # print(Y_val.shape)\n",
    "        a=0\n",
    "        # Y_val_round = round(Y_val)\n",
    "        a=((Y_val.round()==Y_test).float()).sum()\n",
    "        acc = a/len(Y_val)\n",
    "        print(acc)\n",
    "        #     a+=1\n",
    "        # acc= a/len(Y_val)\n",
    "        "
   ]
  },
  {
   "cell_type": "code",
   "execution_count": 14,
   "metadata": {},
   "outputs": [
    {
     "name": "stdout",
     "output_type": "stream",
     "text": [
      "tensor(85.0519)\n"
     ]
    }
   ],
   "source": [
    "accuracy(model1, X_test)"
   ]
  },
  {
   "cell_type": "code",
   "execution_count": 15,
   "metadata": {},
   "outputs": [
    {
     "name": "stdout",
     "output_type": "stream",
     "text": [
      "torch.Size([2452, 8])\n"
     ]
    }
   ],
   "source": [
    "#augmentation\n",
    "std = 0.1\n",
    "noise1 = torch.randn_like(X_train) * std\n",
    "X_train_aug1 = X_train + noise1\n",
    "noise2 = torch.randn_like(X_train) * std\n",
    "X_train_aug2 = X_train + noise2\n",
    "noise3 = torch.randn_like(X_train) * std\n",
    "X_train_aug3 = X_train + noise3\n",
    "X_aug = torch.cat((X_train, X_train_aug1 , X_train_aug2, X_train_aug3),0)\n",
    "print(X_aug.shape)\n",
    "# print(X_train_aug1.shape)\n",
    "\n",
    "Y_aug = torch.cat((Y_train, Y_train, Y_train, Y_train),0)"
   ]
  },
  {
   "cell_type": "code",
   "execution_count": 16,
   "metadata": {},
   "outputs": [
    {
     "name": "stdout",
     "output_type": "stream",
     "text": [
      "Epoch number 0\n",
      "1.864775189762209\n"
     ]
    },
    {
     "name": "stderr",
     "output_type": "stream",
     "text": [
      "No artists with labels found to put in legend.  Note that artists whose label start with an underscore are ignored when legend() is called with no argument.\n"
     ]
    },
    {
     "data": {
      "image/png": "[encoded data removed]",
      "text/plain": [
       "<Figure size 640x480 with 1 Axes>"
      ]
     },
     "metadata": {},
     "output_type": "display_data"
    }
   ],
   "source": [
    "model_fn(X_aug,Y_aug, model2, optimizer2,loss_fn2)"
   ]
  },
  {
   "cell_type": "code",
   "execution_count": 17,
   "metadata": {},
   "outputs": [
    {
     "name": "stdout",
     "output_type": "stream",
     "text": [
      "tensor(87.6494)\n"
     ]
    }
   ],
   "source": [
    "accuracy(model2, X_test)"
   ]
  }
 ],
 "metadata": {
  "kernelspec": {
   "display_name": "kernelforpytorch",
   "language": "python",
   "name": "pytorch"
  },
  "language_info": {
   "codemirror_mode": {
    "name": "ipython",
    "version": 3
   },
   "file_extension": ".py",
   "mimetype": "text/x-python",
   "name": "python",
   "nbconvert_exporter": "python",
   "pygments_lexer": "ipython3",
   "version": "3.8.10"
  }
 },
 "nbformat": 4,
 "nbformat_minor": 4
}
